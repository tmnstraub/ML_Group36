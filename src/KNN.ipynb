{
 "cells": [
  {
   "cell_type": "markdown",
   "metadata": {},
   "source": [
    "# Import Dataset"
   ]
  },
  {
   "cell_type": "code",
   "execution_count": 69,
   "metadata": {},
   "outputs": [],
   "source": [
    "import pandas as pd\n",
    "import seaborn as sns\n",
    "import matplotlib.pyplot as plt\n",
    "import numpy as np\n",
    "import scipy.stats as stats\n",
    "\n",
    "from Preprocessing_functions import *"
   ]
  },
  {
   "cell_type": "code",
   "execution_count": 70,
   "metadata": {},
   "outputs": [
    {
     "name": "stderr",
     "output_type": "stream",
     "text": [
      "/var/folders/z6/_vn8cndd4x5dmx2cpjfdkjdr0000gn/T/ipykernel_26564/3470921380.py:1: DtypeWarning: Columns (29) have mixed types. Specify dtype option on import or set low_memory=False.\n",
      "  train_data = pd.read_csv('train_data.csv', index_col='Claim Identifier')\n"
     ]
    }
   ],
   "source": [
    "train_data = pd.read_csv('train_data.csv', index_col='Claim Identifier')\n",
    "test_data = pd.read_csv('test_data.csv', index_col='Claim Identifier')"
   ]
  },
  {
   "cell_type": "code",
   "execution_count": 71,
   "metadata": {},
   "outputs": [
    {
     "data": {
      "text/plain": [
       "Accident Date                          23134\n",
       "Age at Injury                          19445\n",
       "Alternative Dispute Resolution         19445\n",
       "Assembly Date                              0\n",
       "Attorney/Representative                19445\n",
       "Average Weekly Wage                    48096\n",
       "Birth Year                             48523\n",
       "C-2 Date                               34005\n",
       "C-3 Date                              406226\n",
       "Carrier Name                           19445\n",
       "Carrier Type                           19445\n",
       "Claim Injury Type                      19445\n",
       "County of Injury                       19445\n",
       "COVID-19 Indicator                     19445\n",
       "District Name                          19445\n",
       "First Hearing Date                    442673\n",
       "Gender                                 19445\n",
       "IME-4 Count                           460668\n",
       "Industry Code                          29403\n",
       "Industry Code Description              29403\n",
       "Medical Fee Region                     19445\n",
       "OIICS Nature of Injury Description    593471\n",
       "WCIO Cause of Injury Code              35085\n",
       "WCIO Cause of Injury Description       35085\n",
       "WCIO Nature of Injury Code             35102\n",
       "WCIO Nature of Injury Description      35102\n",
       "WCIO Part Of Body Code                 36527\n",
       "WCIO Part Of Body Description          36527\n",
       "Zip Code                               48082\n",
       "Agreement Reached                      19445\n",
       "WCB Decision                           19445\n",
       "Number of Dependents                   19445\n",
       "dtype: int64"
      ]
     },
     "execution_count": 71,
     "metadata": {},
     "output_type": "execute_result"
    }
   ],
   "source": [
    "train_data.isna().sum()"
   ]
  },
  {
   "cell_type": "markdown",
   "metadata": {},
   "source": [
    "# Preprocessing"
   ]
  },
  {
   "cell_type": "code",
   "execution_count": 72,
   "metadata": {},
   "outputs": [],
   "source": [
    "train_data = train_data[~(train_data.drop(columns=['Assembly Date']).isna().all(axis=1) & train_data['Assembly Date'].notna())]"
   ]
  },
  {
   "cell_type": "code",
   "execution_count": 73,
   "metadata": {},
   "outputs": [],
   "source": [
    "X = train_data.drop(columns=['Claim Injury Type', 'WCB Decision', 'Agreement Reached'])\n",
    "y = train_data['Claim Injury Type']"
   ]
  },
  {
   "cell_type": "code",
   "execution_count": 74,
   "metadata": {},
   "outputs": [
    {
     "data": {
      "text/plain": [
       "np.int64(0)"
      ]
     },
     "execution_count": 74,
     "metadata": {},
     "output_type": "execute_result"
    }
   ],
   "source": [
    "y.isna().sum()"
   ]
  },
  {
   "cell_type": "code",
   "execution_count": 75,
   "metadata": {},
   "outputs": [],
   "source": [
    "X_train, X_val, y_train, y_val = train_test_split(X, y, test_size=0.2, random_state=42, stratify=y)"
   ]
  },
  {
   "cell_type": "code",
   "execution_count": 76,
   "metadata": {},
   "outputs": [],
   "source": [
    "def drop_description_columns(X_train, X_val):\n",
    "    \"\"\"\n",
    "    Drop all columns in X_train and X_val that contain the word 'description' in their names (case-insensitive).\n",
    "    \"\"\"\n",
    "    # Identify columns containing the word 'description'\n",
    "    description_columns = X_train.columns[X_train.columns.str.contains('description', case=False, na=False)]\n",
    "    \n",
    "    # Drop these columns from both DataFrames\n",
    "    X_train = X_train.drop(description_columns, axis=1)\n",
    "    X_val = X_val.drop(description_columns, axis=1)\n",
    "    \n",
    "    return X_train, X_val\n",
    "\n",
    "# Call the function\n",
    "X_train, X_val = drop_description_columns(X_train, X_val)"
   ]
  },
  {
   "cell_type": "code",
   "execution_count": 77,
   "metadata": {},
   "outputs": [],
   "source": [
    "CODE_COLUMNS = ['Industry Code', 'WCIO Cause of Injury Code',\n",
    "       'WCIO Nature of Injury Code', 'WCIO Part Of Body Code']\n",
    "\n",
    "DESCRIPTION_COLUMNS = ['WCIO Cause of Injury Description','WCIO Nature of Injury Description','WCIO Part Of Body Description','Industry Code Description']\n",
    "\n",
    "BOOLEAN_COLUMNS = ['Alternative Dispute Resolution', 'Attorney/Representative','COVID-19 Indicator']\n",
    "\n",
    "date_order = ['Accident Date', 'C-2 Date','C-3 Date','Assembly Date', 'First Hearing Date']\n"
   ]
  },
  {
   "cell_type": "code",
   "execution_count": 78,
   "metadata": {},
   "outputs": [],
   "source": [
    "numerical_columns = [\n",
    "    'Average Weekly Wage']"
   ]
  },
  {
   "cell_type": "code",
   "execution_count": 79,
   "metadata": {},
   "outputs": [],
   "source": [
    "col_minmax = ['Age at Injury', 'Birth Year', 'Number of Dependents']\n",
    "col_standart = ['Accident Date','Assembly Date','C-2 Date','C-3 Date','Average Weekly Wage','First Hearing Date']"
   ]
  },
  {
   "cell_type": "code",
   "execution_count": 80,
   "metadata": {},
   "outputs": [],
   "source": [
    "numerical_columns = [\n",
    "    'Accident Date', \n",
    "    'Age at Injury', \n",
    "    'Assembly Date', \n",
    "    'Average Weekly Wage', \n",
    "    'Birth Year', \n",
    "    'C-2 Date', \n",
    "    'C-3 Date', \n",
    "    'First Hearing Date', \n",
    "    'IME-4 Count', \n",
    "    'Industry Code', \n",
    "    'WCIO Cause of Injury Code', \n",
    "    'WCIO Nature of Injury Code', \n",
    "    'WCIO Part Of Body Code', \n",
    "    'Number of Dependents',\n",
    "]\n",
    "\n",
    "categorical_features = ['Alternative Dispute Resolution',\n",
    " 'Attorney/Representative',\n",
    " 'Carrier Name',\n",
    " 'Carrier Type',\n",
    " 'County of Injury',\n",
    " 'COVID-19 Indicator',\n",
    " 'District Name',\n",
    " 'Gender',\n",
    " 'Industry Code',\n",
    " 'Medical Fee Region',\n",
    " 'WCIO Cause of Injury Code',\n",
    " 'WCIO Nature of Injury Code',\n",
    " 'WCIO Part Of Body Code',\n",
    " 'Zip Code']\n"
   ]
  },
  {
   "cell_type": "code",
   "execution_count": 81,
   "metadata": {},
   "outputs": [],
   "source": [
    "low_cardinality_cols = [col for col in categorical_features if X_train[col].nunique() < 10]\n",
    "high_cardinality_cols = [col for col in categorical_features if X_train[col].nunique() > 10]"
   ]
  },
  {
   "cell_type": "code",
   "execution_count": null,
   "metadata": {},
   "outputs": [
    {
     "name": "stderr",
     "output_type": "stream",
     "text": [
      "/Users/philippedutranoit/document ordi/nova/machine learning /project/ML_Group36/src/Preprocessing_functions.py:301: FutureWarning: A value is trying to be set on a copy of a DataFrame or Series through chained assignment using an inplace method.\n",
      "The behavior will change in pandas 3.0. This inplace method will never work because the intermediate object on which we are setting values always behaves as a copy.\n",
      "\n",
      "For example, when doing 'df[col].method(value, inplace=True)', try using 'df.method({col: value}, inplace=True)' or df[col] = df[col].method(value) instead, to perform the operation inplace on the original object.\n",
      "\n",
      "\n",
      "  X_train[col].fillna(mean_value, inplace=True)\n",
      "/Users/philippedutranoit/document ordi/nova/machine learning /project/ML_Group36/src/Preprocessing_functions.py:302: FutureWarning: A value is trying to be set on a copy of a DataFrame or Series through chained assignment using an inplace method.\n",
      "The behavior will change in pandas 3.0. This inplace method will never work because the intermediate object on which we are setting values always behaves as a copy.\n",
      "\n",
      "For example, when doing 'df[col].method(value, inplace=True)', try using 'df.method({col: value}, inplace=True)' or df[col] = df[col].method(value) instead, to perform the operation inplace on the original object.\n",
      "\n",
      "\n",
      "  X_val[col].fillna(mean_value, inplace=True)\n"
     ]
    },
    {
     "name": "stdout",
     "output_type": "stream",
     "text": [
      "<class 'pandas.core.frame.DataFrame'>\n",
      "Index: 459220 entries, 5785935 to 6027959\n",
      "Data columns (total 27 columns):\n",
      " #   Column                          Non-Null Count   Dtype  \n",
      "---  ------                          --------------   -----  \n",
      " 0   Accident Date                   459220 non-null  float64\n",
      " 1   Age at Injury                   459220 non-null  float64\n",
      " 2   Alternative Dispute Resolution  459220 non-null  object \n",
      " 3   Assembly Date                   459220 non-null  float64\n",
      " 4   Attorney/Representative         459220 non-null  object \n",
      " 5   Average Weekly Wage             459220 non-null  float64\n",
      " 6   Birth Year                      459220 non-null  float64\n",
      " 7   C-2 Date                        459220 non-null  float64\n",
      " 8   C-3 Date                        459220 non-null  float64\n",
      " 9   Carrier Name                    459220 non-null  object \n",
      " 10  Carrier Type                    459220 non-null  object \n",
      " 11  County of Injury                459220 non-null  object \n",
      " 12  COVID-19 Indicator              459220 non-null  object \n",
      " 13  District Name                   459220 non-null  object \n",
      " 14  First Hearing Date              459220 non-null  float64\n",
      " 15  Gender                          459220 non-null  object \n",
      " 16  IME-4 Count                     459220 non-null  float64\n",
      " 17  Industry Code                   459220 non-null  object \n",
      " 18  Medical Fee Region              459220 non-null  object \n",
      " 19  WCIO Cause of Injury Code       459220 non-null  object \n",
      " 20  WCIO Nature of Injury Code      459220 non-null  object \n",
      " 21  WCIO Part Of Body Code          459220 non-null  object \n",
      " 22  Zip Code                        459220 non-null  object \n",
      " 23  Number of Dependents            459220 non-null  float64\n",
      " 24  Has C-3 Date                    459220 non-null  int64  \n",
      " 25  Has C-2 Date                    459220 non-null  int64  \n",
      " 26  Has First Hearing Date          459220 non-null  int64  \n",
      "dtypes: float64(10), int64(3), object(14)\n",
      "memory usage: 98.1+ MB\n"
     ]
    }
   ],
   "source": [
    "def preprocessing_dum(X_train, X_val):\n",
    "    convert_to_timestamp(X_train, X_val, date_order)\n",
    "    convert_to_bool(X_train, X_val, col_names=BOOLEAN_COLUMNS)\n",
    "    fill_missing_with_mode(X_train, X_val)\n",
    "    feature_creation_has_Cdate (X_train, X_val)\n",
    "    impute_mean_numerical(X_train, X_val, numerical_columns)\n",
    "    code_columns_train = [col for col in X_train.columns if 'Code' in col]\n",
    "    code_columns_val = [col for col in X_val.columns if 'Code' in col]\n",
    "\n",
    "    X_train[code_columns_train] = X_train[code_columns_train].astype(str)\n",
    "    X_val[code_columns_val] = X_val[code_columns_val].astype(str)\n",
    "    scaling_minmax(X_train, X_val, col_minmax)\n",
    "    scaling_standard(X_train, X_val, col_standart)\n",
    "    \n",
    "preprocessing_dum(X_train, X_val)\n",
    "\n",
    "X_train.info()\n"
   ]
  },
  {
   "cell_type": "code",
   "execution_count": null,
   "metadata": {},
   "outputs": [],
   "source": [
    "X_train_encoded"
   ]
  },
  {
   "cell_type": "code",
   "execution_count": null,
   "metadata": {},
   "outputs": [
    {
     "name": "stderr",
     "output_type": "stream",
     "text": [
      "/Users/philippedutranoit/document ordi/nova/machine learning /project/ML_Group36/src/Preprocessing_functions.py:296: FutureWarning: A value is trying to be set on a copy of a DataFrame or Series through chained assignment using an inplace method.\n",
      "The behavior will change in pandas 3.0. This inplace method will never work because the intermediate object on which we are setting values always behaves as a copy.\n",
      "\n",
      "For example, when doing 'df[col].method(value, inplace=True)', try using 'df.method({col: value}, inplace=True)' or df[col] = df[col].method(value) instead, to perform the operation inplace on the original object.\n",
      "\n",
      "\n",
      "  X_train[col].fillna(mean_value, inplace=True)\n",
      "/Users/philippedutranoit/document ordi/nova/machine learning /project/ML_Group36/src/Preprocessing_functions.py:297: FutureWarning: A value is trying to be set on a copy of a DataFrame or Series through chained assignment using an inplace method.\n",
      "The behavior will change in pandas 3.0. This inplace method will never work because the intermediate object on which we are setting values always behaves as a copy.\n",
      "\n",
      "For example, when doing 'df[col].method(value, inplace=True)', try using 'df.method({col: value}, inplace=True)' or df[col] = df[col].method(value) instead, to perform the operation inplace on the original object.\n",
      "\n",
      "\n",
      "  X_val[col].fillna(mean_value, inplace=True)\n",
      "/Users/philippedutranoit/document ordi/nova/machine learning /project/ML_Group36/src/Preprocessing_functions.py:422: UserWarning: Unable to sort modes: '<' not supported between instances of 'str' and 'float'\n",
      "  .agg(lambda x: x.mode().iloc[0] if not x.mode().empty else None)\n",
      "/Users/philippedutranoit/document ordi/nova/machine learning /project/ML_Group36/src/Preprocessing_functions.py:422: UserWarning: Unable to sort modes: '<' not supported between instances of 'float' and 'str'\n",
      "  .agg(lambda x: x.mode().iloc[0] if not x.mode().empty else None)\n",
      "/Users/philippedutranoit/document ordi/nova/machine learning /project/ML_Group36/src/Preprocessing_functions.py:478: FutureWarning: A value is trying to be set on a copy of a DataFrame or Series through chained assignment using an inplace method.\n",
      "The behavior will change in pandas 3.0. This inplace method will never work because the intermediate object on which we are setting values always behaves as a copy.\n",
      "\n",
      "For example, when doing 'df[col].method(value, inplace=True)', try using 'df.method({col: value}, inplace=True)' or df[col] = df[col].method(value) instead, to perform the operation inplace on the original object.\n",
      "\n",
      "\n",
      "  X_train['Accident Date'].fillna(X_train['C-2 Date'] - mean_difference_c2_accident, inplace=True)\n",
      "/Users/philippedutranoit/document ordi/nova/machine learning /project/ML_Group36/src/Preprocessing_functions.py:479: FutureWarning: A value is trying to be set on a copy of a DataFrame or Series through chained assignment using an inplace method.\n",
      "The behavior will change in pandas 3.0. This inplace method will never work because the intermediate object on which we are setting values always behaves as a copy.\n",
      "\n",
      "For example, when doing 'df[col].method(value, inplace=True)', try using 'df.method({col: value}, inplace=True)' or df[col] = df[col].method(value) instead, to perform the operation inplace on the original object.\n",
      "\n",
      "\n",
      "  X_val['Accident Date'].fillna(X_val['C-2 Date'] - mean_difference_c2_accident, inplace=True)\n",
      "/Users/philippedutranoit/document ordi/nova/machine learning /project/ML_Group36/src/Preprocessing_functions.py:500: FutureWarning: A value is trying to be set on a copy of a DataFrame or Series through chained assignment using an inplace method.\n",
      "The behavior will change in pandas 3.0. This inplace method will never work because the intermediate object on which we are setting values always behaves as a copy.\n",
      "\n",
      "For example, when doing 'df[col].method(value, inplace=True)', try using 'df.method({col: value}, inplace=True)' or df[col] = df[col].method(value) instead, to perform the operation inplace on the original object.\n",
      "\n",
      "\n",
      "  df['Birth Year'].fillna(calculated_birth_years.dt.year, inplace=True)\n",
      "/Users/philippedutranoit/document ordi/nova/machine learning /project/ML_Group36/src/Preprocessing_functions.py:500: FutureWarning: A value is trying to be set on a copy of a DataFrame or Series through chained assignment using an inplace method.\n",
      "The behavior will change in pandas 3.0. This inplace method will never work because the intermediate object on which we are setting values always behaves as a copy.\n",
      "\n",
      "For example, when doing 'df[col].method(value, inplace=True)', try using 'df.method({col: value}, inplace=True)' or df[col] = df[col].method(value) instead, to perform the operation inplace on the original object.\n",
      "\n",
      "\n",
      "  df['Birth Year'].fillna(calculated_birth_years.dt.year, inplace=True)\n"
     ]
    },
    {
     "name": "stdout",
     "output_type": "stream",
     "text": [
      "<class 'pandas.core.frame.DataFrame'>\n",
      "Index: 459220 entries, 5785935 to 6027959\n",
      "Data columns (total 28 columns):\n",
      " #   Column                          Non-Null Count   Dtype  \n",
      "---  ------                          --------------   -----  \n",
      " 0   Accident Date                   459220 non-null  float64\n",
      " 1   Age at Injury                   459220 non-null  float64\n",
      " 2   Alternative Dispute Resolution  459216 non-null  object \n",
      " 3   Assembly Date                   459220 non-null  float64\n",
      " 4   Attorney/Representative         459220 non-null  object \n",
      " 5   Average Weekly Wage             436244 non-null  float64\n",
      " 6   Birth Year                      459220 non-null  float64\n",
      " 7   C-2 Date                        459220 non-null  float64\n",
      " 8   C-3 Date                        149655 non-null  float64\n",
      " 9   Carrier Name                    459220 non-null  object \n",
      " 10  Carrier Type                    459220 non-null  object \n",
      " 11  County of Injury                459220 non-null  object \n",
      " 12  COVID-19 Indicator              459220 non-null  object \n",
      " 13  District Name                   459220 non-null  object \n",
      " 14  First Hearing Date              120541 non-null  float64\n",
      " 15  Gender                          459220 non-null  object \n",
      " 16  IME-4 Count                     106188 non-null  float64\n",
      " 17  Industry Code                   459220 non-null  float64\n",
      " 18  Medical Fee Region              459220 non-null  object \n",
      " 19  WCIO Cause of Injury Code       459220 non-null  float64\n",
      " 20  WCIO Nature of Injury Code      459220 non-null  float64\n",
      " 21  WCIO Part Of Body Code          459220 non-null  float64\n",
      " 22  Zip Code                        436392 non-null  object \n",
      " 23  Number of Dependents            459220 non-null  float64\n",
      " 24  time_diff C2 accident           456264 non-null  float64\n",
      " 25  Has C-3 Date                    459220 non-null  int64  \n",
      " 26  Has C-2 Date                    459220 non-null  int64  \n",
      " 27  Has First Hearing Date          459220 non-null  int64  \n",
      "dtypes: float64(15), int64(3), object(10)\n",
      "memory usage: 101.6+ MB\n"
     ]
    }
   ],
   "source": [
    "\n",
    "\"\"\"\n",
    "def preprocessing_complex(X_train, X_val):\n",
    "    convert_to_timestamp(X_train, X_val, date_order)\n",
    "    convert_to_bool(X_train, X_val, col_names=BOOLEAN_COLUMNS)\n",
    "    impute_mean_numerical(X_train, X_val, ['C-2 Date'])\n",
    "    fillna_zip_code(X_train, X_val)\n",
    "    fillnan_accident_date(X_train,X_val)\n",
    "    fillnan_birth_year(X_train,X_val)\n",
    "    feature_creation_has_Cdate (X_train, X_val)\n",
    "    fill_missing_with_mode(X_train, X_val)\n",
    "    drop_description_columns(X_train, X_val)\n",
    "    scaling_standard(X_train, X_val, columns)\n",
    "    encoding_onehot(X_train, X_val, columns)\n",
    "    return X_train, X_val\n",
    "preprocessing_complex(X_train, X_val)\n",
    "\n",
    "X_train.info()\n",
    "\"\"\"\n",
    "\n",
    "\n",
    "\n"
   ]
  },
  {
   "cell_type": "markdown",
   "metadata": {},
   "source": [
    "# Model Training"
   ]
  },
  {
   "cell_type": "code",
   "execution_count": null,
   "metadata": {},
   "outputs": [],
   "source": [
    "import numpy as np\n",
    "import pandas as pd\n",
    "from sklearn.model_selection import KFold\n",
    "from sklearn.neighbors import KNeighborsClassifier\n",
    "from sklearn.preprocessing import StandardScaler\n",
    "from sklearn.metrics import accuracy_score\n",
    "\n",
    "\n",
    "# Range of k values to test\n",
    "k_range = range(1, 10)\n",
    "kf = KFold(n_splits=5, shuffle=True, random_state=42)\n",
    "\n",
    "# To store mean accuracy for each k\n",
    "mean_accuracies = []\n",
    "\n",
    "# Perform K-Fold for each k\n",
    "for k in k_range:\n",
    "    accuracies = []\n",
    "    for train_index, test_index in kf.split(X):\n",
    "        # Split the data into training and test sets for this fold\n",
    "        X_train, X_test = X[train_index], X[test_index]\n",
    "        y_train, y_test = y.iloc[train_index], y.iloc[test_index]\n",
    "        \n",
    "        # Train the KNN model\n",
    "        knn = KNeighborsClassifier(n_neighbors=k)\n",
    "        knn.fit(X_train, y_train)\n",
    "        \n",
    "        # Evaluate on the test set\n",
    "        y_pred = knn.predict(X_test)\n",
    "        accuracy = accuracy_score(y_test, y_pred)\n",
    "        accuracies.append(accuracy)\n",
    "    \n",
    "    # Compute the mean accuracy for this k\n",
    "    mean_accuracies.append(np.mean(accuracies))\n",
    "\n",
    "# Find the optimal k\n",
    "optimal_k = k_range[np.argmax(mean_accuracies)]\n",
    "print(f\"The optimal number of neighbors is {optimal_k}.\")\n",
    "\n",
    "# Plot the results\n",
    "import matplotlib.pyplot as plt\n",
    "plt.plot(k_range, mean_accuracies)\n",
    "plt.xlabel('Number of Neighbors (k)')\n",
    "plt.ylabel('Mean Accuracy')\n",
    "plt.title('Optimal k Selection using K-Fold Cross-Validation')\n",
    "plt.show()\n",
    "\n",
    "# Final training with optimal k\n",
    "final_knn = KNeighborsClassifier(n_neighbors=optimal_k)\n",
    "final_knn.fit(X, y)\n",
    "print(f\"Model trained with optimal k={optimal_k}.\")\n",
    "\n",
    "  "
   ]
  },
  {
   "cell_type": "code",
   "execution_count": null,
   "metadata": {},
   "outputs": [],
   "source": [
    "import numpy as np\n",
    "import pandas as pd\n",
    "from sklearn.model_selection import KFold\n",
    "from xgboost import XGBClassifier\n",
    "from sklearn.metrics import accuracy_score\n",
    "import matplotlib.pyplot as plt\n",
    "\n",
    "# Range of k values to test (for XGBoost, we can try different hyperparameters)\n",
    "learning_rate_range = [0.01, 0.1, 0.3, 0.5, 0.7]\n",
    "kf = KFold(n_splits=5, shuffle=True, random_state=42)\n",
    "\n",
    "# To store mean accuracy for each learning rate\n",
    "mean_accuracies = []\n",
    "\n",
    "# Perform K-Fold for each learning rate\n",
    "for learning_rate in learning_rate_range:\n",
    "    accuracies = []\n",
    "    for train_index, test_index in kf.split(X):\n",
    "        # Split the data into training and test sets for this fold\n",
    "        X_train, X_test = X.iloc[train_index], X.iloc[test_index]\n",
    "        y_train, y_test = y.iloc[train_index], y.iloc[test_index]\n",
    "        \n",
    "        # Train the XGBoost model\n",
    "        model = XGBClassifier(learning_rate=learning_rate, use_label_encoder=False, eval_metric='mlogloss')\n",
    "        model.fit(X_train, y_train)\n",
    "        \n",
    "        # Evaluate on the test set\n",
    "        y_pred = model.predict(X_test)\n",
    "        accuracy = accuracy_score(y_test, y_pred)\n",
    "        accuracies.append(accuracy)\n",
    "    \n",
    "    # Compute the mean accuracy for this learning rate\n",
    "    mean_accuracies.append(np.mean(accuracies))\n",
    "\n",
    "# Find the optimal learning rate\n",
    "optimal_lr = learning_rate_range[np.argmax(mean_accuracies)]\n",
    "print(f\"The optimal learning rate is {optimal_lr}.\")\n",
    "\n",
    "# Plot the results\n",
    "plt.plot(learning_rate_range, mean_accuracies)\n",
    "plt.xlabel('Learning Rate')\n",
    "plt.ylabel('Mean Accuracy')\n",
    "plt.title('Optimal Learning Rate Selection using K-Fold Cross-Validation (XGBoost)')\n",
    "plt.show()\n",
    "\n",
    "# Final training with optimal learning rate\n",
    "final_model = XGBClassifier(learning_rate=optimal_lr, use_label_encoder=False, eval_metric='mlogloss')\n",
    "final_model.fit(X, y)\n",
    "print(f\"Model trained with optimal learning rate={optimal_lr}.\")\n"
   ]
  }
 ],
 "metadata": {
  "kernelspec": {
   "display_name": "DM2425",
   "language": "python",
   "name": "python3"
  },
  "language_info": {
   "codemirror_mode": {
    "name": "ipython",
    "version": 3
   },
   "file_extension": ".py",
   "mimetype": "text/x-python",
   "name": "python",
   "nbconvert_exporter": "python",
   "pygments_lexer": "ipython3",
   "version": "3.12.7"
  }
 },
 "nbformat": 4,
 "nbformat_minor": 2
}
