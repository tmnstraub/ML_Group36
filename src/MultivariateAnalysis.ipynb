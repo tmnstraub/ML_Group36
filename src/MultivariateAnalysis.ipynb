{
 "cells": [
  {
   "cell_type": "markdown",
   "metadata": {},
   "source": [
    "---\n",
    "# Multivariate Analysis\n",
    "## Age at Injury vs. Average Weekly Wage\n"
   ]
  },
  {
   "cell_type": "markdown",
   "metadata": {},
   "source": [
    "### 2.1.7 Multivariate Analysis"
   ]
  },
  {
   "cell_type": "code",
   "execution_count": null,
   "metadata": {},
   "outputs": [],
   "source": [
    "plt.figure(figsize=(10, 6))\n",
    "sns.scatterplot(x='Age at Injury', y='Average Weekly Wage', hue='Claim Injury Type', data=train_data)\n",
    "plt.title('Age at Injury vs. Average Weekly Wage')\n",
    "plt.xlabel('Age at Injury')\n",
    "plt.ylabel('Average Weekly Wage')\n",
    "plt.show()"
   ]
  },
  {
   "cell_type": "markdown",
   "metadata": {},
   "source": [
    "As we can see there's a lot a values of \"Average Weekly Wage\" equal to zero, we have to decide what to do wiith it"
   ]
  },
  {
   "cell_type": "code",
   "execution_count": null,
   "metadata": {},
   "outputs": [],
   "source": [
    "df[df['Average Weekly Wage']==0].shape[0]"
   ]
  },
  {
   "cell_type": "markdown",
   "metadata": {},
   "source": [
    "#### Average Weekly Wage by Claim Injury Type\n"
   ]
  },
  {
   "cell_type": "code",
   "execution_count": null,
   "metadata": {},
   "outputs": [],
   "source": [
    "# Average Weekly Wage by Gender\n",
    "plt.figure(figsize=(15, 9))\n",
    "sns.barplot(x='Gender', y='Average Weekly Wage', data=train_data, estimator=np.mean, ci='sd', capsize=0.1)\n",
    "plt.title('Average Weekly Wage by Gender')\n",
    "plt.xlabel('Gender')\n",
    "plt.ylabel('Average Weekly Wage')\n",
    "plt.show()\n"
   ]
  },
  {
   "cell_type": "markdown",
   "metadata": {},
   "source": [
    "Everything that has the feature \"Average Weekly Wage\" has to be taken \"with a grain of salt\" because of the amount of zeros"
   ]
  },
  {
   "cell_type": "markdown",
   "metadata": {},
   "source": [
    "#### Age at Injury by Claim Injury Type"
   ]
  },
  {
   "cell_type": "code",
   "execution_count": null,
   "metadata": {},
   "outputs": [],
   "source": [
    "plt.figure(figsize=(12, 6))\n",
    "sns.violinplot(x='Claim Injury Type', y='Age at Injury', data=train_data)\n",
    "plt.title('Age at Injury by Claim Injury Type')\n",
    "plt.show()"
   ]
  },
  {
   "cell_type": "markdown",
   "metadata": {},
   "source": [
    "There is a significante amont of cancelled claims at a young age"
   ]
  },
  {
   "cell_type": "markdown",
   "metadata": {},
   "source": [
    "#### Stacked Bar Plot for Gender vs. Claim Injury Type"
   ]
  },
  {
   "cell_type": "code",
   "execution_count": null,
   "metadata": {},
   "outputs": [],
   "source": [
    "pd.crosstab(train_data['Claim Injury Type'],train_data['Gender']).plot(kind='bar', stacked=True, figsize=(10, 6))\n",
    "plt.title('Gender vs. Claim Injury Type')\n",
    "plt.xlabel('Claim Injury Type')\n",
    "plt.ylabel('Count')\n",
    "plt.show()"
   ]
  },
  {
   "cell_type": "markdown",
   "metadata": {},
   "source": [
    "There's only a significant difference in Female and Male in PPD SCH LOSS"
   ]
  },
  {
   "cell_type": "markdown",
   "metadata": {},
   "source": [
    "#### Gender vs Attorney/Representative"
   ]
  },
  {
   "cell_type": "code",
   "execution_count": null,
   "metadata": {},
   "outputs": [],
   "source": [
    "plt.figure(figsize=(10, 6))\n",
    "sns.countplot(x='Gender', hue='Attorney/Representative', data=train_data)\n",
    "plt.title('Gender vs Attorney/Representative')\n",
    "plt.xlabel('Gender')\n",
    "plt.ylabel('Count')\n",
    "plt.legend(title='Attorney/Representative')\n",
    "plt.show()\n"
   ]
  },
  {
   "cell_type": "markdown",
   "metadata": {},
   "source": [
    "Observation: The proportion is almost the same compared with the amount of M/F/U/X so we cannot say there's descriminations towards a specific gender and the opportunity to have an attorney"
   ]
  },
  {
   "cell_type": "markdown",
   "metadata": {},
   "source": [
    "#### WCIO Cause of Injury Code by Gender"
   ]
  },
  {
   "cell_type": "code",
   "execution_count": null,
   "metadata": {},
   "outputs": [],
   "source": [
    "# WCIO Cause of Injury Code by Gender\n",
    "plt.figure(figsize=(40, 9))\n",
    "sns.countplot(x='WCIO Cause of Injury Description', hue='Gender', data=train_data)\n",
    "plt.title('WCIO Cause of Injury Code by Gender')\n",
    "plt.xlabel('WCIO Cause of Injury Description')\n",
    "plt.ylabel('Count')\n",
    "plt.legend(title='Gender')\n",
    "plt.xticks(rotation=45, ha='right')\n",
    "plt.show()"
   ]
  },
  {
   "cell_type": "markdown",
   "metadata": {},
   "source": [
    "#### WCIO Part Of Body Description by Claim Injury Type\n"
   ]
  },
  {
   "cell_type": "code",
   "execution_count": null,
   "metadata": {},
   "outputs": [],
   "source": [
    "# WCIO Part Of Body Code by Claim Injury Type\n",
    "plt.figure(figsize=(30, 9))\n",
    "sns.countplot(x='WCIO Part Of Body Description', hue='Claim Injury Type', data=train_data)\n",
    "plt.title('WCIO Part Of Body Description by Claim Injury Type')\n",
    "plt.xlabel('WCIO Part Of Body Description')\n",
    "plt.ylabel('Count')\n",
    "plt.legend(title='Claim Injury Type')\n",
    "plt.xticks(rotation=45, ha='right')\n",
    "plt.show()"
   ]
  },
  {
   "cell_type": "markdown",
   "metadata": {},
   "source": [
    "#### Carrier Type by Claim Injury Type"
   ]
  },
  {
   "cell_type": "code",
   "execution_count": null,
   "metadata": {},
   "outputs": [],
   "source": [
    "# Carrier Type by Claim Injury Type\n",
    "plt.figure(figsize=(15, 9))\n",
    "sns.countplot(x='Carrier Type', hue='Claim Injury Type', data=train_data, alpha=0.75, edgecolor='black')\n",
    "plt.title('Carrier Type by Claim Injury Type')\n",
    "plt.xlabel('Carrier Type')\n",
    "plt.ylabel('Count')\n",
    "plt.legend(title='Claim Injury Type')\n",
    "plt.xticks(rotation=45, ha='right')\n",
    "plt.show()"
   ]
  },
  {
   "cell_type": "markdown",
   "metadata": {},
   "source": [
    "#### COVID-19 Indicator by Claim Injury Type"
   ]
  },
  {
   "cell_type": "code",
   "execution_count": null,
   "metadata": {},
   "outputs": [],
   "source": [
    "# COVID-19 Indicator by Claim Injury Type\n",
    "plt.figure(figsize=(15, 9))\n",
    "sns.countplot(x='COVID-19 Indicator', hue='Claim Injury Type', data=train_data, alpha=0.75, edgecolor='black')\n",
    "plt.title('COVID-19 Indicator by Claim Injury Type')\n",
    "plt.xlabel('COVID-19 Indicator')\n",
    "plt.ylabel('Count')\n",
    "plt.legend(title='Claim Injury Type')\n",
    "plt.xticks(rotation=45, ha='right')\n",
    "plt.show()"
   ]
  },
  {
   "cell_type": "markdown",
   "metadata": {},
   "source": [
    "#### Average Weekly Wage by Attorney/Representative"
   ]
  },
  {
   "cell_type": "code",
   "execution_count": null,
   "metadata": {},
   "outputs": [],
   "source": [
    "plt.figure(figsize=(15, 9))\n",
    "sns.barplot(x='Attorney/Representative', y='Average Weekly Wage', data=train_data, estimator=np.mean, ci='sd', capsize=0.1)\n",
    "plt.title('Average Weekly Wage by Attorney/Representative')\n",
    "plt.xlabel('Attorney/Representative')\n",
    "plt.ylabel('Average Weekly Wage')\n",
    "plt.show()\n"
   ]
  },
  {
   "cell_type": "markdown",
   "metadata": {},
   "source": [
    "#### Pairwise Relationship of Numerical Variables"
   ]
  },
  {
   "cell_type": "code",
   "execution_count": null,
   "metadata": {},
   "outputs": [],
   "source": [
    "sns.pairplot(train_data[num_feat], diag_kind=\"hist\")\n",
    "\n",
    "# Layout\n",
    "plt.subplots_adjust(top=0.95)\n",
    "plt.suptitle(\"Pairwise Relationship of Numerical Variables\", fontsize=20)\n",
    "\n",
    "plt.show()"
   ]
  }
 ],
 "metadata": {
  "language_info": {
   "name": "python"
  }
 },
 "nbformat": 4,
 "nbformat_minor": 2
}
