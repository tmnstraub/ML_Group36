{
 "cells": [
  {
   "cell_type": "markdown",
   "metadata": {},
   "source": [
    "# Data Pre-processing\n"
   ]
  },
  {
   "cell_type": "code",
   "execution_count": 25,
   "metadata": {},
   "outputs": [],
   "source": [
    "import pandas as pd\n",
    "import numpy as np\n",
    "import seaborn as sns\n",
    "import matplotlib.pyplot as plt\n",
    "import utils"
   ]
  },
  {
   "cell_type": "code",
   "execution_count": 26,
   "metadata": {},
   "outputs": [],
   "source": [
    "pd.set_option('display.max_columns', 500)\n",
    "pd.set_option('display.max_rows', 500)"
   ]
  },
  {
   "cell_type": "code",
   "execution_count": 27,
   "metadata": {},
   "outputs": [
    {
     "name": "stderr",
     "output_type": "stream",
     "text": [
      "C:\\Users\\isa\\AppData\\Local\\Temp\\ipykernel_17728\\1307583070.py:1: DtypeWarning: Columns (29) have mixed types. Specify dtype option on import or set low_memory=False.\n",
      "  data = pd.read_csv('../Data/train_data.csv', index_col='Claim Identifier')\n"
     ]
    }
   ],
   "source": [
    "data = pd.read_csv('../Data/train_data.csv', index_col='Claim Identifier')\n"
   ]
  },
  {
   "cell_type": "markdown",
   "metadata": {},
   "source": [
    "_____"
   ]
  },
  {
   "cell_type": "markdown",
   "metadata": {},
   "source": [
    "# Empty rows\n",
    "In the initial analysis we saw that the only features that has no missing values is `_Assembly Date_`. So let's check how many rows only have that feature filled and the rest of columns empty"
   ]
  },
  {
   "cell_type": "code",
   "execution_count": 28,
   "metadata": {},
   "outputs": [
    {
     "data": {
      "text/plain": [
       "19445"
      ]
     },
     "execution_count": 28,
     "metadata": {},
     "output_type": "execute_result"
    }
   ],
   "source": [
    "data.drop(columns=['Assembly Date']).isna().all(axis=1).sum()\n"
   ]
  },
  {
   "cell_type": "code",
   "execution_count": 29,
   "metadata": {},
   "outputs": [],
   "source": [
    "df = data[~(data.drop(columns=['Assembly Date']).isna().all(axis=1) & data['Assembly Date'].notna())]"
   ]
  },
  {
   "cell_type": "code",
   "execution_count": 30,
   "metadata": {},
   "outputs": [
    {
     "data": {
      "text/plain": [
       "0"
      ]
     },
     "execution_count": 30,
     "metadata": {},
     "output_type": "execute_result"
    }
   ],
   "source": [
    "df.drop(columns=['Assembly Date']).isna().all(axis=1).sum()\n"
   ]
  },
  {
   "cell_type": "markdown",
   "metadata": {},
   "source": [
    "Here 19445 empty rows were dropped"
   ]
  },
  {
   "cell_type": "markdown",
   "metadata": {},
   "source": [
    "_____"
   ]
  },
  {
   "cell_type": "markdown",
   "metadata": {},
   "source": [
    "# Overlook of the features\n",
    "This notebook will include pre processing of the following variables:\n",
    "- Carrier Name \n",
    "- Attorney Representative\n",
    "- OIICS Nature of Injury Description\n",
    "- Industry Code\n",
    "- Medical Fee Region\n",
    "- C-2 Date\n",
    "- First Hearing Date\n",
    "- WCIO Cause of Injury Code\n",
    "- WCIO Part of Body Code\n",
    "- WCIO Cause of Injury Description\n",
    "- WCIO Nature of Injury Description"
   ]
  },
  {
   "cell_type": "markdown",
   "metadata": {},
   "source": [
    "Since we dropped some rows in the previous section we should check again for the updated number of missing values for the features we are interest in"
   ]
  },
  {
   "cell_type": "code",
   "execution_count": 31,
   "metadata": {},
   "outputs": [],
   "source": [
    "target_features = ['Carrier Name', 'Attorney/Representative', 'OIICS Nature of Injury Description', \n",
    "                   'Industry Code', 'Medical Fee Region', 'C-2 Date', 'First Hearing Date','WCIO Cause of Injury Code',\n",
    "                   'WCIO Part Of Body Code','WCIO Cause of Injury Description','WCIO Nature of Injury Description']"
   ]
  },
  {
   "cell_type": "code",
   "execution_count": 32,
   "metadata": {},
   "outputs": [
    {
     "data": {
      "text/plain": [
       "Carrier Name                            0.000000\n",
       "Attorney/Representative                 0.000000\n",
       "OIICS Nature of Injury Description    100.000000\n",
       "Industry Code                           1.734765\n",
       "Medical Fee Region                      0.000000\n",
       "C-2 Date                                2.536470\n",
       "First Hearing Date                     73.729761\n",
       "WCIO Cause of Injury Code               2.724615\n",
       "WCIO Part Of Body Code                  2.975823\n",
       "WCIO Cause of Injury Description        2.724615\n",
       "WCIO Nature of Injury Description       2.727577\n",
       "dtype: float64"
      ]
     },
     "execution_count": 32,
     "metadata": {},
     "output_type": "execute_result"
    }
   ],
   "source": [
    "df[target_features].isnull().sum()/df.shape[0]*100"
   ]
  },
  {
   "cell_type": "markdown",
   "metadata": {},
   "source": [
    "The features _`Carrier Name`_,  _`Attorney/Representative`_ and _`Medical Fee Region`_ no longer have missing values. Let's look at the others"
   ]
  },
  {
   "cell_type": "markdown",
   "metadata": {},
   "source": [
    "### OIICS Nature of Injury Description\n",
    "Between all the complains this feature is never filled, so we can drop it"
   ]
  },
  {
   "cell_type": "code",
   "execution_count": 33,
   "metadata": {},
   "outputs": [],
   "source": [
    "# drop OIICS Nature of Injury Description\n",
    "df = df.drop(columns=['OIICS Nature of Injury Description'])"
   ]
  },
  {
   "cell_type": "markdown",
   "metadata": {},
   "source": [
    "### First Hearing Date\n",
    "This feature also has a high percentage of missing values. According to the provided information for this project, 'A blank date means the claim has not yet had a hearing held'. So we should create a label for the ones that hadn't had a hearing yet, we will simply call it 'N/A'"
   ]
  },
  {
   "cell_type": "code",
   "execution_count": 34,
   "metadata": {},
   "outputs": [],
   "source": [
    "# transform First Hearing Date into pd.datetime\n",
    "df['First Hearing Date'] = pd.to_datetime(df['First Hearing Date'])"
   ]
  },
  {
   "cell_type": "code",
   "execution_count": 35,
   "metadata": {},
   "outputs": [
    {
     "data": {
      "text/plain": [
       "0"
      ]
     },
     "execution_count": 35,
     "metadata": {},
     "output_type": "execute_result"
    }
   ],
   "source": [
    "# fill NA with 'N/A'\n",
    "df['First Hearing Date'] = df['First Hearing Date'].fillna('N/A')\n",
    "df['First Hearing Date'].isna().sum()"
   ]
  },
  {
   "cell_type": "markdown",
   "metadata": {},
   "source": [
    "To assist in the information that this feature can provide we can create another feature called _`Has First Hearing Date`_ - a binary value that indicates if the user has had it's first hearing date"
   ]
  },
  {
   "cell_type": "code",
   "execution_count": 36,
   "metadata": {},
   "outputs": [],
   "source": [
    "# create Has First Hearing Date based on if is 'N/A' or not\n",
    "df['Has First Hearing Date'] = df['First Hearing Date'].apply(lambda x: 0 if x == 'N/A' else 1)"
   ]
  },
  {
   "cell_type": "code",
   "execution_count": 37,
   "metadata": {},
   "outputs": [
    {
     "data": {
      "text/plain": [
       "Has First Hearing Date\n",
       "0    423228\n",
       "1    150798\n",
       "Name: count, dtype: int64"
      ]
     },
     "execution_count": 37,
     "metadata": {},
     "output_type": "execute_result"
    }
   ],
   "source": [
    "df['Has First Hearing Date'].value_counts()"
   ]
  },
  {
   "cell_type": "markdown",
   "metadata": {},
   "source": [
    "### C-2 Date\n",
    "I think that there is relationship between this C-2 Date and some other date, ideally _`Assembly Date`_, but I dont know how to prove it yet"
   ]
  },
  {
   "cell_type": "code",
   "execution_count": 38,
   "metadata": {},
   "outputs": [
    {
     "data": {
      "text/html": [
       "<div>\n",
       "<style scoped>\n",
       "    .dataframe tbody tr th:only-of-type {\n",
       "        vertical-align: middle;\n",
       "    }\n",
       "\n",
       "    .dataframe tbody tr th {\n",
       "        vertical-align: top;\n",
       "    }\n",
       "\n",
       "    .dataframe thead th {\n",
       "        text-align: right;\n",
       "    }\n",
       "</style>\n",
       "<table border=\"1\" class=\"dataframe\">\n",
       "  <thead>\n",
       "    <tr style=\"text-align: right;\">\n",
       "      <th></th>\n",
       "      <th>Accident Date</th>\n",
       "      <th>C-2 Date</th>\n",
       "      <th>First Hearing Date</th>\n",
       "      <th>Assembly Date</th>\n",
       "    </tr>\n",
       "    <tr>\n",
       "      <th>Claim Identifier</th>\n",
       "      <th></th>\n",
       "      <th></th>\n",
       "      <th></th>\n",
       "      <th></th>\n",
       "    </tr>\n",
       "  </thead>\n",
       "  <tbody>\n",
       "    <tr>\n",
       "      <th>5393991</th>\n",
       "      <td>2019-12-05</td>\n",
       "      <td>NaN</td>\n",
       "      <td>N/A</td>\n",
       "      <td>2020-01-02</td>\n",
       "    </tr>\n",
       "    <tr>\n",
       "      <th>5394018</th>\n",
       "      <td>2019-12-11</td>\n",
       "      <td>NaN</td>\n",
       "      <td>2020-09-15 00:00:00</td>\n",
       "      <td>2020-01-02</td>\n",
       "    </tr>\n",
       "    <tr>\n",
       "      <th>5394153</th>\n",
       "      <td>2019-08-15</td>\n",
       "      <td>NaN</td>\n",
       "      <td>N/A</td>\n",
       "      <td>2020-01-02</td>\n",
       "    </tr>\n",
       "    <tr>\n",
       "      <th>5393971</th>\n",
       "      <td>2019-06-26</td>\n",
       "      <td>NaN</td>\n",
       "      <td>N/A</td>\n",
       "      <td>2020-01-02</td>\n",
       "    </tr>\n",
       "    <tr>\n",
       "      <th>5393773</th>\n",
       "      <td>2019-12-27</td>\n",
       "      <td>NaN</td>\n",
       "      <td>N/A</td>\n",
       "      <td>2020-01-02</td>\n",
       "    </tr>\n",
       "    <tr>\n",
       "      <th>5393917</th>\n",
       "      <td>2019-09-23</td>\n",
       "      <td>NaN</td>\n",
       "      <td>N/A</td>\n",
       "      <td>2020-01-02</td>\n",
       "    </tr>\n",
       "    <tr>\n",
       "      <th>5394102</th>\n",
       "      <td>2019-12-20</td>\n",
       "      <td>NaN</td>\n",
       "      <td>N/A</td>\n",
       "      <td>2020-01-02</td>\n",
       "    </tr>\n",
       "    <tr>\n",
       "      <th>5393964</th>\n",
       "      <td>2001-09-12</td>\n",
       "      <td>NaN</td>\n",
       "      <td>N/A</td>\n",
       "      <td>2020-01-02</td>\n",
       "    </tr>\n",
       "    <tr>\n",
       "      <th>5393769</th>\n",
       "      <td>2019-11-14</td>\n",
       "      <td>NaN</td>\n",
       "      <td>N/A</td>\n",
       "      <td>2020-01-02</td>\n",
       "    </tr>\n",
       "    <tr>\n",
       "      <th>5394068</th>\n",
       "      <td>NaN</td>\n",
       "      <td>NaN</td>\n",
       "      <td>N/A</td>\n",
       "      <td>2020-01-02</td>\n",
       "    </tr>\n",
       "    <tr>\n",
       "      <th>5393794</th>\n",
       "      <td>NaN</td>\n",
       "      <td>NaN</td>\n",
       "      <td>N/A</td>\n",
       "      <td>2020-01-02</td>\n",
       "    </tr>\n",
       "    <tr>\n",
       "      <th>5394174</th>\n",
       "      <td>2019-07-17</td>\n",
       "      <td>NaN</td>\n",
       "      <td>2020-05-13 00:00:00</td>\n",
       "      <td>2020-01-02</td>\n",
       "    </tr>\n",
       "    <tr>\n",
       "      <th>5393851</th>\n",
       "      <td>2019-11-13</td>\n",
       "      <td>NaN</td>\n",
       "      <td>N/A</td>\n",
       "      <td>2020-01-02</td>\n",
       "    </tr>\n",
       "    <tr>\n",
       "      <th>5393878</th>\n",
       "      <td>2016-05-31</td>\n",
       "      <td>NaN</td>\n",
       "      <td>N/A</td>\n",
       "      <td>2020-01-02</td>\n",
       "    </tr>\n",
       "    <tr>\n",
       "      <th>5393942</th>\n",
       "      <td>2019-11-17</td>\n",
       "      <td>NaN</td>\n",
       "      <td>2020-05-14 00:00:00</td>\n",
       "      <td>2020-01-02</td>\n",
       "    </tr>\n",
       "    <tr>\n",
       "      <th>5393999</th>\n",
       "      <td>NaN</td>\n",
       "      <td>NaN</td>\n",
       "      <td>N/A</td>\n",
       "      <td>2020-01-02</td>\n",
       "    </tr>\n",
       "    <tr>\n",
       "      <th>5394147</th>\n",
       "      <td>2019-03-01</td>\n",
       "      <td>NaN</td>\n",
       "      <td>N/A</td>\n",
       "      <td>2020-01-02</td>\n",
       "    </tr>\n",
       "    <tr>\n",
       "      <th>5394824</th>\n",
       "      <td>NaN</td>\n",
       "      <td>NaN</td>\n",
       "      <td>N/A</td>\n",
       "      <td>2020-01-03</td>\n",
       "    </tr>\n",
       "    <tr>\n",
       "      <th>5394397</th>\n",
       "      <td>2019-05-28</td>\n",
       "      <td>NaN</td>\n",
       "      <td>N/A</td>\n",
       "      <td>2020-01-03</td>\n",
       "    </tr>\n",
       "    <tr>\n",
       "      <th>5394232</th>\n",
       "      <td>2019-10-28</td>\n",
       "      <td>NaN</td>\n",
       "      <td>N/A</td>\n",
       "      <td>2020-01-03</td>\n",
       "    </tr>\n",
       "  </tbody>\n",
       "</table>\n",
       "</div>"
      ],
      "text/plain": [
       "                 Accident Date C-2 Date   First Hearing Date Assembly Date\n",
       "Claim Identifier                                                          \n",
       "5393991             2019-12-05      NaN                  N/A    2020-01-02\n",
       "5394018             2019-12-11      NaN  2020-09-15 00:00:00    2020-01-02\n",
       "5394153             2019-08-15      NaN                  N/A    2020-01-02\n",
       "5393971             2019-06-26      NaN                  N/A    2020-01-02\n",
       "5393773             2019-12-27      NaN                  N/A    2020-01-02\n",
       "5393917             2019-09-23      NaN                  N/A    2020-01-02\n",
       "5394102             2019-12-20      NaN                  N/A    2020-01-02\n",
       "5393964             2001-09-12      NaN                  N/A    2020-01-02\n",
       "5393769             2019-11-14      NaN                  N/A    2020-01-02\n",
       "5394068                    NaN      NaN                  N/A    2020-01-02\n",
       "5393794                    NaN      NaN                  N/A    2020-01-02\n",
       "5394174             2019-07-17      NaN  2020-05-13 00:00:00    2020-01-02\n",
       "5393851             2019-11-13      NaN                  N/A    2020-01-02\n",
       "5393878             2016-05-31      NaN                  N/A    2020-01-02\n",
       "5393942             2019-11-17      NaN  2020-05-14 00:00:00    2020-01-02\n",
       "5393999                    NaN      NaN                  N/A    2020-01-02\n",
       "5394147             2019-03-01      NaN                  N/A    2020-01-02\n",
       "5394824                    NaN      NaN                  N/A    2020-01-03\n",
       "5394397             2019-05-28      NaN                  N/A    2020-01-03\n",
       "5394232             2019-10-28      NaN                  N/A    2020-01-03"
      ]
     },
     "execution_count": 38,
     "metadata": {},
     "output_type": "execute_result"
    }
   ],
   "source": [
    "date_features = ['Accident Date', 'C-2 Date', 'First Hearing Date', 'Assembly Date']\n",
    "date_df = df[date_features]\n",
    "\n",
    "date_df[date_df['C-2 Date'].isna()].head(20)"
   ]
  },
  {
   "cell_type": "markdown",
   "metadata": {},
   "source": [
    "### Codes and Descriptions\n",
    "This section will analyse data related to codes and their descriptions"
   ]
  },
  {
   "cell_type": "code",
   "execution_count": 39,
   "metadata": {},
   "outputs": [
    {
     "name": "stderr",
     "output_type": "stream",
     "text": [
      "C:\\Users\\isa\\AppData\\Local\\Temp\\ipykernel_17728\\1033338758.py:2: SettingWithCopyWarning: \n",
      "A value is trying to be set on a copy of a slice from a DataFrame\n",
      "\n",
      "See the caveats in the documentation: https://pandas.pydata.org/pandas-docs/stable/user_guide/indexing.html#returning-a-view-versus-a-copy\n",
      "  df_codes.drop(columns=['Industry Code Description', 'Zip Code'], inplace=True)\n"
     ]
    }
   ],
   "source": [
    "df_codes = df[[col for col in df.columns if 'Code' in col]]\n",
    "df_codes.drop(columns=['Industry Code Description', 'Zip Code'], inplace=True)\n",
    "\n",
    "df_description = df[[col for col in df.columns if 'Description' in col]]"
   ]
  },
  {
   "cell_type": "code",
   "execution_count": 40,
   "metadata": {},
   "outputs": [
    {
     "data": {
      "text/html": [
       "<div>\n",
       "<style scoped>\n",
       "    .dataframe tbody tr th:only-of-type {\n",
       "        vertical-align: middle;\n",
       "    }\n",
       "\n",
       "    .dataframe tbody tr th {\n",
       "        vertical-align: top;\n",
       "    }\n",
       "\n",
       "    .dataframe thead th {\n",
       "        text-align: right;\n",
       "    }\n",
       "</style>\n",
       "<table border=\"1\" class=\"dataframe\">\n",
       "  <thead>\n",
       "    <tr style=\"text-align: right;\">\n",
       "      <th></th>\n",
       "      <th>Industry Code</th>\n",
       "      <th>WCIO Cause of Injury Code</th>\n",
       "      <th>WCIO Nature of Injury Code</th>\n",
       "      <th>WCIO Part Of Body Code</th>\n",
       "    </tr>\n",
       "  </thead>\n",
       "  <tbody>\n",
       "    <tr>\n",
       "      <th>count</th>\n",
       "      <td>564068.0</td>\n",
       "      <td>558386.0</td>\n",
       "      <td>558369.0</td>\n",
       "      <td>556944.0</td>\n",
       "    </tr>\n",
       "    <tr>\n",
       "      <th>unique</th>\n",
       "      <td>24.0</td>\n",
       "      <td>77.0</td>\n",
       "      <td>56.0</td>\n",
       "      <td>57.0</td>\n",
       "    </tr>\n",
       "    <tr>\n",
       "      <th>top</th>\n",
       "      <td>62.0</td>\n",
       "      <td>56.0</td>\n",
       "      <td>52.0</td>\n",
       "      <td>42.0</td>\n",
       "    </tr>\n",
       "    <tr>\n",
       "      <th>freq</th>\n",
       "      <td>114339.0</td>\n",
       "      <td>46610.0</td>\n",
       "      <td>153373.0</td>\n",
       "      <td>51862.0</td>\n",
       "    </tr>\n",
       "  </tbody>\n",
       "</table>\n",
       "</div>"
      ],
      "text/plain": [
       "        Industry Code  WCIO Cause of Injury Code  WCIO Nature of Injury Code  \\\n",
       "count        564068.0                   558386.0                    558369.0   \n",
       "unique           24.0                       77.0                        56.0   \n",
       "top              62.0                       56.0                        52.0   \n",
       "freq         114339.0                    46610.0                    153373.0   \n",
       "\n",
       "        WCIO Part Of Body Code  \n",
       "count                 556944.0  \n",
       "unique                    57.0  \n",
       "top                       42.0  \n",
       "freq                   51862.0  "
      ]
     },
     "execution_count": 40,
     "metadata": {},
     "output_type": "execute_result"
    }
   ],
   "source": [
    "# ensure that all codes are objects\n",
    "df_codes = df_codes.astype('object')\n",
    "\n",
    "df_codes.describe()"
   ]
  },
  {
   "cell_type": "code",
   "execution_count": 41,
   "metadata": {},
   "outputs": [
    {
     "data": {
      "text/plain": [
       "Index(['Industry Code', 'WCIO Cause of Injury Code',\n",
       "       'WCIO Nature of Injury Code', 'WCIO Part Of Body Code'],\n",
       "      dtype='object')"
      ]
     },
     "execution_count": 41,
     "metadata": {},
     "output_type": "execute_result"
    }
   ],
   "source": [
    "#check the order of the codes\n",
    "df_codes.columns\n"
   ]
  },
  {
   "cell_type": "code",
   "execution_count": 42,
   "metadata": {},
   "outputs": [
    {
     "data": {
      "text/plain": [
       "Index(['Industry Code Description', 'WCIO Cause of Injury Description',\n",
       "       'WCIO Nature of Injury Description', 'WCIO Part Of Body Description'],\n",
       "      dtype='object')"
      ]
     },
     "execution_count": 42,
     "metadata": {},
     "output_type": "execute_result"
    }
   ],
   "source": [
    "#check the order of the descriptions\n",
    "df_description.columns"
   ]
  },
  {
   "cell_type": "code",
   "execution_count": null,
   "metadata": {},
   "outputs": [],
   "source": [
    "def code_description_consistency(df, code_column, description_column):\n",
    "    \"\"\"\n",
    "    Checks the one-to-one consistency between a code and description column in a DataFrame.\n",
    "    \n",
    "    Parameters:\n",
    "    - df (pd.DataFrame): The DataFrame containing the data.\n",
    "    - code_column (str): The name of the column representing codes.\n",
    "    - description_column (str): The name of the column representing descriptions.\n",
    "    \n",
    "    Returns:\n",
    "    - tuple: A tuple with two boolean values:\n",
    "        - codes_match_descriptions (bool): True if each code has a unique description.\n",
    "        - descriptions_match_codes (bool): True if each description has a unique code.\n",
    "    \"\"\"\n",
    "    # Remove rows with missing values in either the code or description columns\n",
    "    df_non_null = df.dropna(subset=[code_column, description_column])\n",
    "\n",
    "    # Check if each code maps to a unique description\n",
    "    code_consistency = df_non_null.groupby(code_column)[description_column].nunique() == 1\n",
    "\n",
    "    # Check if each description maps to a unique code\n",
    "    description_consistency = df_non_null.groupby(description_column)[code_column].nunique() == 1\n",
    "\n",
    "    # Check overall consistency\n",
    "    codes_match_descriptions = code_consistency.all()\n",
    "    descriptions_match_codes = description_consistency.all()\n",
    "\n",
    "    return codes_match_descriptions, descriptions_match_codes"
   ]
  },
  {
   "cell_type": "code",
   "execution_count": 43,
   "metadata": {},
   "outputs": [
    {
     "ename": "NameError",
     "evalue": "name 'code_description_consistency' is not defined",
     "output_type": "error",
     "traceback": [
      "\u001b[1;31m---------------------------------------------------------------------------\u001b[0m",
      "\u001b[1;31mNameError\u001b[0m                                 Traceback (most recent call last)",
      "Cell \u001b[1;32mIn[43], line 5\u001b[0m\n\u001b[0;32m      1\u001b[0m \u001b[38;5;66;03m#since they match we can iterate between both dataframes and use code_description_consistency()\u001b[39;00m\n\u001b[0;32m      3\u001b[0m \u001b[38;5;28;01mfor\u001b[39;00m code, description \u001b[38;5;129;01min\u001b[39;00m \u001b[38;5;28mzip\u001b[39m(df_codes\u001b[38;5;241m.\u001b[39mcolumns, df_description\u001b[38;5;241m.\u001b[39mcolumns):\n\u001b[0;32m      4\u001b[0m     \u001b[38;5;66;03m#print the result of the function\u001b[39;00m\n\u001b[1;32m----> 5\u001b[0m     \u001b[38;5;28mprint\u001b[39m(code_description_consistency(df_codes[code], df_description[description]))\n",
      "\u001b[1;31mNameError\u001b[0m: name 'code_description_consistency' is not defined"
     ]
    }
   ],
   "source": [
    "#since they match we can iterate between both dataframes and use code_description_consistency()\n",
    "\n",
    "for code, description in zip(df_codes.columns, df_description.columns):\n",
    "    #print the result of the function\n",
    "    print(code_description_consistency(df_codes[code], df_description[description]))"
   ]
  }
 ],
 "metadata": {
  "kernelspec": {
   "display_name": "base",
   "language": "python",
   "name": "python3"
  },
  "language_info": {
   "codemirror_mode": {
    "name": "ipython",
    "version": 3
   },
   "file_extension": ".py",
   "mimetype": "text/x-python",
   "name": "python",
   "nbconvert_exporter": "python",
   "pygments_lexer": "ipython3",
   "version": "3.12.4"
  }
 },
 "nbformat": 4,
 "nbformat_minor": 2
}
