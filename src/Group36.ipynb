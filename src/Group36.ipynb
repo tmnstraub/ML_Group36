{
 "cells": [
  {
   "cell_type": "code",
   "execution_count": 3,
   "metadata": {},
   "outputs": [],
   "source": [
    "import pandas as pd\n",
    "import numpy as np\n",
    "import seaborn as sns\n",
    "import matplotlib.pyplot as plt\n",
    "from math import ceil\n",
    "from ydata_profiling import ProfileReport"
   ]
  },
  {
   "cell_type": "code",
   "execution_count": 4,
   "metadata": {},
   "outputs": [],
   "source": [
    "pd.set_option('display.max_columns', 500)\n",
    "pd.set_option('display.max_rows', 500)"
   ]
  },
  {
   "cell_type": "code",
   "execution_count": 5,
   "metadata": {},
   "outputs": [
    {
     "name": "stderr",
     "output_type": "stream",
     "text": [
      "C:\\Users\\isa\\AppData\\Local\\Temp\\ipykernel_7564\\3281014697.py:1: DtypeWarning: Columns (29) have mixed types. Specify dtype option on import or set low_memory=False.\n",
      "  train_data = pd.read_csv('../Data/train_data.csv', index_col='Claim Identifier')\n"
     ]
    }
   ],
   "source": [
    "train_data = pd.read_csv('../Data/train_data.csv', index_col='Claim Identifier')\n"
   ]
  },
  {
   "cell_type": "code",
   "execution_count": 6,
   "metadata": {},
   "outputs": [],
   "source": [
    "y = train_data['Claim Injury Type']\n",
    "df = train_data.drop(columns='Claim Injury Type',)"
   ]
  },
  {
   "cell_type": "code",
   "execution_count": 7,
   "metadata": {},
   "outputs": [
    {
     "data": {
      "text/html": [
       "<div>\n",
       "<style scoped>\n",
       "    .dataframe tbody tr th:only-of-type {\n",
       "        vertical-align: middle;\n",
       "    }\n",
       "\n",
       "    .dataframe tbody tr th {\n",
       "        vertical-align: top;\n",
       "    }\n",
       "\n",
       "    .dataframe thead th {\n",
       "        text-align: right;\n",
       "    }\n",
       "</style>\n",
       "<table border=\"1\" class=\"dataframe\">\n",
       "  <thead>\n",
       "    <tr style=\"text-align: right;\">\n",
       "      <th></th>\n",
       "      <th>Accident Date</th>\n",
       "      <th>Age at Injury</th>\n",
       "      <th>Alternative Dispute Resolution</th>\n",
       "      <th>Assembly Date</th>\n",
       "      <th>Attorney/Representative</th>\n",
       "      <th>Average Weekly Wage</th>\n",
       "      <th>Birth Year</th>\n",
       "      <th>C-2 Date</th>\n",
       "      <th>C-3 Date</th>\n",
       "      <th>Carrier Name</th>\n",
       "      <th>Carrier Type</th>\n",
       "      <th>County of Injury</th>\n",
       "      <th>COVID-19 Indicator</th>\n",
       "      <th>District Name</th>\n",
       "      <th>First Hearing Date</th>\n",
       "      <th>Gender</th>\n",
       "      <th>IME-4 Count</th>\n",
       "      <th>Industry Code</th>\n",
       "      <th>Industry Code Description</th>\n",
       "      <th>Medical Fee Region</th>\n",
       "      <th>OIICS Nature of Injury Description</th>\n",
       "      <th>WCIO Cause of Injury Code</th>\n",
       "      <th>WCIO Cause of Injury Description</th>\n",
       "      <th>WCIO Nature of Injury Code</th>\n",
       "      <th>WCIO Nature of Injury Description</th>\n",
       "      <th>WCIO Part Of Body Code</th>\n",
       "      <th>WCIO Part Of Body Description</th>\n",
       "      <th>Zip Code</th>\n",
       "      <th>Agreement Reached</th>\n",
       "      <th>WCB Decision</th>\n",
       "      <th>Number of Dependents</th>\n",
       "    </tr>\n",
       "    <tr>\n",
       "      <th>Claim Identifier</th>\n",
       "      <th></th>\n",
       "      <th></th>\n",
       "      <th></th>\n",
       "      <th></th>\n",
       "      <th></th>\n",
       "      <th></th>\n",
       "      <th></th>\n",
       "      <th></th>\n",
       "      <th></th>\n",
       "      <th></th>\n",
       "      <th></th>\n",
       "      <th></th>\n",
       "      <th></th>\n",
       "      <th></th>\n",
       "      <th></th>\n",
       "      <th></th>\n",
       "      <th></th>\n",
       "      <th></th>\n",
       "      <th></th>\n",
       "      <th></th>\n",
       "      <th></th>\n",
       "      <th></th>\n",
       "      <th></th>\n",
       "      <th></th>\n",
       "      <th></th>\n",
       "      <th></th>\n",
       "      <th></th>\n",
       "      <th></th>\n",
       "      <th></th>\n",
       "      <th></th>\n",
       "      <th></th>\n",
       "    </tr>\n",
       "  </thead>\n",
       "  <tbody>\n",
       "    <tr>\n",
       "      <th>5393875</th>\n",
       "      <td>2019-12-30</td>\n",
       "      <td>31.0</td>\n",
       "      <td>N</td>\n",
       "      <td>2020-01-01</td>\n",
       "      <td>N</td>\n",
       "      <td>0.00</td>\n",
       "      <td>1988.0</td>\n",
       "      <td>2019-12-31</td>\n",
       "      <td>NaN</td>\n",
       "      <td>NEW HAMPSHIRE INSURANCE CO</td>\n",
       "      <td>1A. PRIVATE</td>\n",
       "      <td>ST. LAWRENCE</td>\n",
       "      <td>N</td>\n",
       "      <td>SYRACUSE</td>\n",
       "      <td>NaN</td>\n",
       "      <td>M</td>\n",
       "      <td>NaN</td>\n",
       "      <td>44.0</td>\n",
       "      <td>RETAIL TRADE</td>\n",
       "      <td>I</td>\n",
       "      <td>NaN</td>\n",
       "      <td>27.0</td>\n",
       "      <td>FROM LIQUID OR GREASE SPILLS</td>\n",
       "      <td>10.0</td>\n",
       "      <td>CONTUSION</td>\n",
       "      <td>62.0</td>\n",
       "      <td>BUTTOCKS</td>\n",
       "      <td>13662</td>\n",
       "      <td>0.0</td>\n",
       "      <td>Not Work Related</td>\n",
       "      <td>1.0</td>\n",
       "    </tr>\n",
       "    <tr>\n",
       "      <th>5393091</th>\n",
       "      <td>2019-08-30</td>\n",
       "      <td>46.0</td>\n",
       "      <td>N</td>\n",
       "      <td>2020-01-01</td>\n",
       "      <td>Y</td>\n",
       "      <td>1745.93</td>\n",
       "      <td>1973.0</td>\n",
       "      <td>2020-01-01</td>\n",
       "      <td>2020-01-14</td>\n",
       "      <td>ZURICH AMERICAN INSURANCE CO</td>\n",
       "      <td>1A. PRIVATE</td>\n",
       "      <td>WYOMING</td>\n",
       "      <td>N</td>\n",
       "      <td>ROCHESTER</td>\n",
       "      <td>2020-02-21</td>\n",
       "      <td>F</td>\n",
       "      <td>4.0</td>\n",
       "      <td>23.0</td>\n",
       "      <td>CONSTRUCTION</td>\n",
       "      <td>I</td>\n",
       "      <td>NaN</td>\n",
       "      <td>97.0</td>\n",
       "      <td>REPETITIVE MOTION</td>\n",
       "      <td>49.0</td>\n",
       "      <td>SPRAIN OR TEAR</td>\n",
       "      <td>38.0</td>\n",
       "      <td>SHOULDER(S)</td>\n",
       "      <td>14569</td>\n",
       "      <td>1.0</td>\n",
       "      <td>Not Work Related</td>\n",
       "      <td>4.0</td>\n",
       "    </tr>\n",
       "    <tr>\n",
       "      <th>5393889</th>\n",
       "      <td>2019-12-06</td>\n",
       "      <td>40.0</td>\n",
       "      <td>N</td>\n",
       "      <td>2020-01-01</td>\n",
       "      <td>N</td>\n",
       "      <td>1434.80</td>\n",
       "      <td>1979.0</td>\n",
       "      <td>2020-01-01</td>\n",
       "      <td>NaN</td>\n",
       "      <td>INDEMNITY INSURANCE CO OF</td>\n",
       "      <td>1A. PRIVATE</td>\n",
       "      <td>ORANGE</td>\n",
       "      <td>N</td>\n",
       "      <td>ALBANY</td>\n",
       "      <td>NaN</td>\n",
       "      <td>M</td>\n",
       "      <td>NaN</td>\n",
       "      <td>56.0</td>\n",
       "      <td>ADMINISTRATIVE AND SUPPORT AND WASTE MANAGEMEN...</td>\n",
       "      <td>II</td>\n",
       "      <td>NaN</td>\n",
       "      <td>79.0</td>\n",
       "      <td>OBJECT BEING LIFTED OR HANDLED</td>\n",
       "      <td>7.0</td>\n",
       "      <td>CONCUSSION</td>\n",
       "      <td>10.0</td>\n",
       "      <td>MULTIPLE HEAD INJURY</td>\n",
       "      <td>12589</td>\n",
       "      <td>0.0</td>\n",
       "      <td>Not Work Related</td>\n",
       "      <td>6.0</td>\n",
       "    </tr>\n",
       "    <tr>\n",
       "      <th>957648180</th>\n",
       "      <td>NaN</td>\n",
       "      <td>NaN</td>\n",
       "      <td>NaN</td>\n",
       "      <td>2020-01-01</td>\n",
       "      <td>NaN</td>\n",
       "      <td>NaN</td>\n",
       "      <td>NaN</td>\n",
       "      <td>NaN</td>\n",
       "      <td>NaN</td>\n",
       "      <td>NaN</td>\n",
       "      <td>NaN</td>\n",
       "      <td>NaN</td>\n",
       "      <td>NaN</td>\n",
       "      <td>NaN</td>\n",
       "      <td>NaN</td>\n",
       "      <td>NaN</td>\n",
       "      <td>NaN</td>\n",
       "      <td>NaN</td>\n",
       "      <td>NaN</td>\n",
       "      <td>NaN</td>\n",
       "      <td>NaN</td>\n",
       "      <td>NaN</td>\n",
       "      <td>NaN</td>\n",
       "      <td>NaN</td>\n",
       "      <td>NaN</td>\n",
       "      <td>NaN</td>\n",
       "      <td>NaN</td>\n",
       "      <td>NaN</td>\n",
       "      <td>NaN</td>\n",
       "      <td>NaN</td>\n",
       "      <td>NaN</td>\n",
       "    </tr>\n",
       "    <tr>\n",
       "      <th>5393887</th>\n",
       "      <td>2019-12-30</td>\n",
       "      <td>61.0</td>\n",
       "      <td>N</td>\n",
       "      <td>2020-01-01</td>\n",
       "      <td>N</td>\n",
       "      <td>NaN</td>\n",
       "      <td>1958.0</td>\n",
       "      <td>2019-12-31</td>\n",
       "      <td>NaN</td>\n",
       "      <td>STATE INSURANCE FUND</td>\n",
       "      <td>2A. SIF</td>\n",
       "      <td>DUTCHESS</td>\n",
       "      <td>N</td>\n",
       "      <td>ALBANY</td>\n",
       "      <td>NaN</td>\n",
       "      <td>M</td>\n",
       "      <td>NaN</td>\n",
       "      <td>62.0</td>\n",
       "      <td>HEALTH CARE AND SOCIAL ASSISTANCE</td>\n",
       "      <td>II</td>\n",
       "      <td>NaN</td>\n",
       "      <td>16.0</td>\n",
       "      <td>HAND TOOL, UTENSIL; NOT POWERED</td>\n",
       "      <td>43.0</td>\n",
       "      <td>PUNCTURE</td>\n",
       "      <td>36.0</td>\n",
       "      <td>FINGER(S)</td>\n",
       "      <td>12603</td>\n",
       "      <td>0.0</td>\n",
       "      <td>Not Work Related</td>\n",
       "      <td>1.0</td>\n",
       "    </tr>\n",
       "  </tbody>\n",
       "</table>\n",
       "</div>"
      ],
      "text/plain": [
       "                 Accident Date  Age at Injury Alternative Dispute Resolution  \\\n",
       "Claim Identifier                                                               \n",
       "5393875             2019-12-30           31.0                              N   \n",
       "5393091             2019-08-30           46.0                              N   \n",
       "5393889             2019-12-06           40.0                              N   \n",
       "957648180                  NaN            NaN                            NaN   \n",
       "5393887             2019-12-30           61.0                              N   \n",
       "\n",
       "                 Assembly Date Attorney/Representative  Average Weekly Wage  \\\n",
       "Claim Identifier                                                              \n",
       "5393875             2020-01-01                       N                 0.00   \n",
       "5393091             2020-01-01                       Y              1745.93   \n",
       "5393889             2020-01-01                       N              1434.80   \n",
       "957648180           2020-01-01                     NaN                  NaN   \n",
       "5393887             2020-01-01                       N                  NaN   \n",
       "\n",
       "                  Birth Year    C-2 Date    C-3 Date  \\\n",
       "Claim Identifier                                       \n",
       "5393875               1988.0  2019-12-31         NaN   \n",
       "5393091               1973.0  2020-01-01  2020-01-14   \n",
       "5393889               1979.0  2020-01-01         NaN   \n",
       "957648180                NaN         NaN         NaN   \n",
       "5393887               1958.0  2019-12-31         NaN   \n",
       "\n",
       "                                  Carrier Name Carrier Type County of Injury  \\\n",
       "Claim Identifier                                                               \n",
       "5393875             NEW HAMPSHIRE INSURANCE CO  1A. PRIVATE     ST. LAWRENCE   \n",
       "5393091           ZURICH AMERICAN INSURANCE CO  1A. PRIVATE          WYOMING   \n",
       "5393889              INDEMNITY INSURANCE CO OF  1A. PRIVATE           ORANGE   \n",
       "957648180                                  NaN          NaN              NaN   \n",
       "5393887                   STATE INSURANCE FUND      2A. SIF         DUTCHESS   \n",
       "\n",
       "                 COVID-19 Indicator District Name First Hearing Date Gender  \\\n",
       "Claim Identifier                                                              \n",
       "5393875                           N      SYRACUSE                NaN      M   \n",
       "5393091                           N     ROCHESTER         2020-02-21      F   \n",
       "5393889                           N        ALBANY                NaN      M   \n",
       "957648180                       NaN           NaN                NaN    NaN   \n",
       "5393887                           N        ALBANY                NaN      M   \n",
       "\n",
       "                  IME-4 Count  Industry Code  \\\n",
       "Claim Identifier                               \n",
       "5393875                   NaN           44.0   \n",
       "5393091                   4.0           23.0   \n",
       "5393889                   NaN           56.0   \n",
       "957648180                 NaN            NaN   \n",
       "5393887                   NaN           62.0   \n",
       "\n",
       "                                          Industry Code Description  \\\n",
       "Claim Identifier                                                      \n",
       "5393875                                                RETAIL TRADE   \n",
       "5393091                                                CONSTRUCTION   \n",
       "5393889           ADMINISTRATIVE AND SUPPORT AND WASTE MANAGEMEN...   \n",
       "957648180                                                       NaN   \n",
       "5393887                           HEALTH CARE AND SOCIAL ASSISTANCE   \n",
       "\n",
       "                 Medical Fee Region  OIICS Nature of Injury Description  \\\n",
       "Claim Identifier                                                          \n",
       "5393875                           I                                 NaN   \n",
       "5393091                           I                                 NaN   \n",
       "5393889                          II                                 NaN   \n",
       "957648180                       NaN                                 NaN   \n",
       "5393887                          II                                 NaN   \n",
       "\n",
       "                  WCIO Cause of Injury Code WCIO Cause of Injury Description  \\\n",
       "Claim Identifier                                                               \n",
       "5393875                                27.0     FROM LIQUID OR GREASE SPILLS   \n",
       "5393091                                97.0                REPETITIVE MOTION   \n",
       "5393889                                79.0   OBJECT BEING LIFTED OR HANDLED   \n",
       "957648180                               NaN                              NaN   \n",
       "5393887                                16.0  HAND TOOL, UTENSIL; NOT POWERED   \n",
       "\n",
       "                  WCIO Nature of Injury Code  \\\n",
       "Claim Identifier                               \n",
       "5393875                                 10.0   \n",
       "5393091                                 49.0   \n",
       "5393889                                  7.0   \n",
       "957648180                                NaN   \n",
       "5393887                                 43.0   \n",
       "\n",
       "                 WCIO Nature of Injury Description  WCIO Part Of Body Code  \\\n",
       "Claim Identifier                                                             \n",
       "5393875                                  CONTUSION                    62.0   \n",
       "5393091                             SPRAIN OR TEAR                    38.0   \n",
       "5393889                                 CONCUSSION                    10.0   \n",
       "957648180                                      NaN                     NaN   \n",
       "5393887                                   PUNCTURE                    36.0   \n",
       "\n",
       "                 WCIO Part Of Body Description Zip Code  Agreement Reached  \\\n",
       "Claim Identifier                                                             \n",
       "5393875                               BUTTOCKS    13662                0.0   \n",
       "5393091                            SHOULDER(S)    14569                1.0   \n",
       "5393889                   MULTIPLE HEAD INJURY    12589                0.0   \n",
       "957648180                                  NaN      NaN                NaN   \n",
       "5393887                              FINGER(S)    12603                0.0   \n",
       "\n",
       "                      WCB Decision  Number of Dependents  \n",
       "Claim Identifier                                          \n",
       "5393875           Not Work Related                   1.0  \n",
       "5393091           Not Work Related                   4.0  \n",
       "5393889           Not Work Related                   6.0  \n",
       "957648180                      NaN                   NaN  \n",
       "5393887           Not Work Related                   1.0  "
      ]
     },
     "execution_count": 7,
     "metadata": {},
     "output_type": "execute_result"
    }
   ],
   "source": [
    "df.head()"
   ]
  },
  {
   "cell_type": "code",
   "execution_count": 8,
   "metadata": {},
   "outputs": [
    {
     "data": {
      "text/html": [
       "<div>\n",
       "<style scoped>\n",
       "    .dataframe tbody tr th:only-of-type {\n",
       "        vertical-align: middle;\n",
       "    }\n",
       "\n",
       "    .dataframe tbody tr th {\n",
       "        vertical-align: top;\n",
       "    }\n",
       "\n",
       "    .dataframe thead th {\n",
       "        text-align: right;\n",
       "    }\n",
       "</style>\n",
       "<table border=\"1\" class=\"dataframe\">\n",
       "  <thead>\n",
       "    <tr style=\"text-align: right;\">\n",
       "      <th></th>\n",
       "      <th>Accident Date</th>\n",
       "      <th>Age at Injury</th>\n",
       "      <th>Alternative Dispute Resolution</th>\n",
       "      <th>Assembly Date</th>\n",
       "      <th>Attorney/Representative</th>\n",
       "      <th>Average Weekly Wage</th>\n",
       "      <th>Birth Year</th>\n",
       "      <th>C-2 Date</th>\n",
       "      <th>C-3 Date</th>\n",
       "      <th>Carrier Name</th>\n",
       "      <th>Carrier Type</th>\n",
       "      <th>County of Injury</th>\n",
       "      <th>COVID-19 Indicator</th>\n",
       "      <th>District Name</th>\n",
       "      <th>First Hearing Date</th>\n",
       "      <th>Gender</th>\n",
       "      <th>IME-4 Count</th>\n",
       "      <th>Industry Code</th>\n",
       "      <th>Industry Code Description</th>\n",
       "      <th>Medical Fee Region</th>\n",
       "      <th>OIICS Nature of Injury Description</th>\n",
       "      <th>WCIO Cause of Injury Code</th>\n",
       "      <th>WCIO Cause of Injury Description</th>\n",
       "      <th>WCIO Nature of Injury Code</th>\n",
       "      <th>WCIO Nature of Injury Description</th>\n",
       "      <th>WCIO Part Of Body Code</th>\n",
       "      <th>WCIO Part Of Body Description</th>\n",
       "      <th>Zip Code</th>\n",
       "      <th>Agreement Reached</th>\n",
       "      <th>WCB Decision</th>\n",
       "      <th>Number of Dependents</th>\n",
       "    </tr>\n",
       "    <tr>\n",
       "      <th>Claim Identifier</th>\n",
       "      <th></th>\n",
       "      <th></th>\n",
       "      <th></th>\n",
       "      <th></th>\n",
       "      <th></th>\n",
       "      <th></th>\n",
       "      <th></th>\n",
       "      <th></th>\n",
       "      <th></th>\n",
       "      <th></th>\n",
       "      <th></th>\n",
       "      <th></th>\n",
       "      <th></th>\n",
       "      <th></th>\n",
       "      <th></th>\n",
       "      <th></th>\n",
       "      <th></th>\n",
       "      <th></th>\n",
       "      <th></th>\n",
       "      <th></th>\n",
       "      <th></th>\n",
       "      <th></th>\n",
       "      <th></th>\n",
       "      <th></th>\n",
       "      <th></th>\n",
       "      <th></th>\n",
       "      <th></th>\n",
       "      <th></th>\n",
       "      <th></th>\n",
       "      <th></th>\n",
       "      <th></th>\n",
       "    </tr>\n",
       "  </thead>\n",
       "  <tbody>\n",
       "    <tr>\n",
       "      <th>327160035</th>\n",
       "      <td>NaN</td>\n",
       "      <td>NaN</td>\n",
       "      <td>NaN</td>\n",
       "      <td>2022-12-31</td>\n",
       "      <td>NaN</td>\n",
       "      <td>NaN</td>\n",
       "      <td>NaN</td>\n",
       "      <td>NaN</td>\n",
       "      <td>NaN</td>\n",
       "      <td>NaN</td>\n",
       "      <td>NaN</td>\n",
       "      <td>NaN</td>\n",
       "      <td>NaN</td>\n",
       "      <td>NaN</td>\n",
       "      <td>NaN</td>\n",
       "      <td>NaN</td>\n",
       "      <td>NaN</td>\n",
       "      <td>NaN</td>\n",
       "      <td>NaN</td>\n",
       "      <td>NaN</td>\n",
       "      <td>NaN</td>\n",
       "      <td>NaN</td>\n",
       "      <td>NaN</td>\n",
       "      <td>NaN</td>\n",
       "      <td>NaN</td>\n",
       "      <td>NaN</td>\n",
       "      <td>NaN</td>\n",
       "      <td>NaN</td>\n",
       "      <td>NaN</td>\n",
       "      <td>NaN</td>\n",
       "      <td>NaN</td>\n",
       "    </tr>\n",
       "    <tr>\n",
       "      <th>6165075</th>\n",
       "      <td>2022-12-13</td>\n",
       "      <td>72.0</td>\n",
       "      <td>N</td>\n",
       "      <td>2022-12-31</td>\n",
       "      <td>N</td>\n",
       "      <td>0.0</td>\n",
       "      <td>1950.0</td>\n",
       "      <td>2022-12-31</td>\n",
       "      <td>NaN</td>\n",
       "      <td>TECHNOLOGY INSURANCE CO. INC.</td>\n",
       "      <td>1A. PRIVATE</td>\n",
       "      <td>SULLIVAN</td>\n",
       "      <td>N</td>\n",
       "      <td>BINGHAMTON</td>\n",
       "      <td>NaN</td>\n",
       "      <td>F</td>\n",
       "      <td>NaN</td>\n",
       "      <td>48.0</td>\n",
       "      <td>TRANSPORTATION AND WAREHOUSING</td>\n",
       "      <td>I</td>\n",
       "      <td>NaN</td>\n",
       "      <td>25.0</td>\n",
       "      <td>FROM DIFFERENT LEVEL (ELEVATION)</td>\n",
       "      <td>90.0</td>\n",
       "      <td>MULTIPLE PHYSICAL INJURIES ONLY</td>\n",
       "      <td>-9.0</td>\n",
       "      <td>MULTIPLE</td>\n",
       "      <td>12779</td>\n",
       "      <td>0.0</td>\n",
       "      <td>Not Work Related</td>\n",
       "      <td>3.0</td>\n",
       "    </tr>\n",
       "    <tr>\n",
       "      <th>249875936</th>\n",
       "      <td>NaN</td>\n",
       "      <td>NaN</td>\n",
       "      <td>NaN</td>\n",
       "      <td>2022-12-31</td>\n",
       "      <td>NaN</td>\n",
       "      <td>NaN</td>\n",
       "      <td>NaN</td>\n",
       "      <td>NaN</td>\n",
       "      <td>NaN</td>\n",
       "      <td>NaN</td>\n",
       "      <td>NaN</td>\n",
       "      <td>NaN</td>\n",
       "      <td>NaN</td>\n",
       "      <td>NaN</td>\n",
       "      <td>NaN</td>\n",
       "      <td>NaN</td>\n",
       "      <td>NaN</td>\n",
       "      <td>NaN</td>\n",
       "      <td>NaN</td>\n",
       "      <td>NaN</td>\n",
       "      <td>NaN</td>\n",
       "      <td>NaN</td>\n",
       "      <td>NaN</td>\n",
       "      <td>NaN</td>\n",
       "      <td>NaN</td>\n",
       "      <td>NaN</td>\n",
       "      <td>NaN</td>\n",
       "      <td>NaN</td>\n",
       "      <td>NaN</td>\n",
       "      <td>NaN</td>\n",
       "      <td>NaN</td>\n",
       "    </tr>\n",
       "    <tr>\n",
       "      <th>120584215</th>\n",
       "      <td>NaN</td>\n",
       "      <td>NaN</td>\n",
       "      <td>NaN</td>\n",
       "      <td>2022-12-31</td>\n",
       "      <td>NaN</td>\n",
       "      <td>NaN</td>\n",
       "      <td>NaN</td>\n",
       "      <td>NaN</td>\n",
       "      <td>NaN</td>\n",
       "      <td>NaN</td>\n",
       "      <td>NaN</td>\n",
       "      <td>NaN</td>\n",
       "      <td>NaN</td>\n",
       "      <td>NaN</td>\n",
       "      <td>NaN</td>\n",
       "      <td>NaN</td>\n",
       "      <td>NaN</td>\n",
       "      <td>NaN</td>\n",
       "      <td>NaN</td>\n",
       "      <td>NaN</td>\n",
       "      <td>NaN</td>\n",
       "      <td>NaN</td>\n",
       "      <td>NaN</td>\n",
       "      <td>NaN</td>\n",
       "      <td>NaN</td>\n",
       "      <td>NaN</td>\n",
       "      <td>NaN</td>\n",
       "      <td>NaN</td>\n",
       "      <td>NaN</td>\n",
       "      <td>NaN</td>\n",
       "      <td>NaN</td>\n",
       "    </tr>\n",
       "    <tr>\n",
       "      <th>818961390</th>\n",
       "      <td>NaN</td>\n",
       "      <td>NaN</td>\n",
       "      <td>NaN</td>\n",
       "      <td>2022-12-31</td>\n",
       "      <td>NaN</td>\n",
       "      <td>NaN</td>\n",
       "      <td>NaN</td>\n",
       "      <td>NaN</td>\n",
       "      <td>NaN</td>\n",
       "      <td>NaN</td>\n",
       "      <td>NaN</td>\n",
       "      <td>NaN</td>\n",
       "      <td>NaN</td>\n",
       "      <td>NaN</td>\n",
       "      <td>NaN</td>\n",
       "      <td>NaN</td>\n",
       "      <td>NaN</td>\n",
       "      <td>NaN</td>\n",
       "      <td>NaN</td>\n",
       "      <td>NaN</td>\n",
       "      <td>NaN</td>\n",
       "      <td>NaN</td>\n",
       "      <td>NaN</td>\n",
       "      <td>NaN</td>\n",
       "      <td>NaN</td>\n",
       "      <td>NaN</td>\n",
       "      <td>NaN</td>\n",
       "      <td>NaN</td>\n",
       "      <td>NaN</td>\n",
       "      <td>NaN</td>\n",
       "      <td>NaN</td>\n",
       "    </tr>\n",
       "  </tbody>\n",
       "</table>\n",
       "</div>"
      ],
      "text/plain": [
       "                 Accident Date  Age at Injury Alternative Dispute Resolution  \\\n",
       "Claim Identifier                                                               \n",
       "327160035                  NaN            NaN                            NaN   \n",
       "6165075             2022-12-13           72.0                              N   \n",
       "249875936                  NaN            NaN                            NaN   \n",
       "120584215                  NaN            NaN                            NaN   \n",
       "818961390                  NaN            NaN                            NaN   \n",
       "\n",
       "                 Assembly Date Attorney/Representative  Average Weekly Wage  \\\n",
       "Claim Identifier                                                              \n",
       "327160035           2022-12-31                     NaN                  NaN   \n",
       "6165075             2022-12-31                       N                  0.0   \n",
       "249875936           2022-12-31                     NaN                  NaN   \n",
       "120584215           2022-12-31                     NaN                  NaN   \n",
       "818961390           2022-12-31                     NaN                  NaN   \n",
       "\n",
       "                  Birth Year    C-2 Date C-3 Date  \\\n",
       "Claim Identifier                                    \n",
       "327160035                NaN         NaN      NaN   \n",
       "6165075               1950.0  2022-12-31      NaN   \n",
       "249875936                NaN         NaN      NaN   \n",
       "120584215                NaN         NaN      NaN   \n",
       "818961390                NaN         NaN      NaN   \n",
       "\n",
       "                                   Carrier Name Carrier Type County of Injury  \\\n",
       "Claim Identifier                                                                \n",
       "327160035                                   NaN          NaN              NaN   \n",
       "6165075           TECHNOLOGY INSURANCE CO. INC.  1A. PRIVATE         SULLIVAN   \n",
       "249875936                                   NaN          NaN              NaN   \n",
       "120584215                                   NaN          NaN              NaN   \n",
       "818961390                                   NaN          NaN              NaN   \n",
       "\n",
       "                 COVID-19 Indicator District Name First Hearing Date Gender  \\\n",
       "Claim Identifier                                                              \n",
       "327160035                       NaN           NaN                NaN    NaN   \n",
       "6165075                           N    BINGHAMTON                NaN      F   \n",
       "249875936                       NaN           NaN                NaN    NaN   \n",
       "120584215                       NaN           NaN                NaN    NaN   \n",
       "818961390                       NaN           NaN                NaN    NaN   \n",
       "\n",
       "                  IME-4 Count  Industry Code       Industry Code Description  \\\n",
       "Claim Identifier                                                               \n",
       "327160035                 NaN            NaN                             NaN   \n",
       "6165075                   NaN           48.0  TRANSPORTATION AND WAREHOUSING   \n",
       "249875936                 NaN            NaN                             NaN   \n",
       "120584215                 NaN            NaN                             NaN   \n",
       "818961390                 NaN            NaN                             NaN   \n",
       "\n",
       "                 Medical Fee Region  OIICS Nature of Injury Description  \\\n",
       "Claim Identifier                                                          \n",
       "327160035                       NaN                                 NaN   \n",
       "6165075                           I                                 NaN   \n",
       "249875936                       NaN                                 NaN   \n",
       "120584215                       NaN                                 NaN   \n",
       "818961390                       NaN                                 NaN   \n",
       "\n",
       "                  WCIO Cause of Injury Code  WCIO Cause of Injury Description  \\\n",
       "Claim Identifier                                                                \n",
       "327160035                               NaN                               NaN   \n",
       "6165075                                25.0  FROM DIFFERENT LEVEL (ELEVATION)   \n",
       "249875936                               NaN                               NaN   \n",
       "120584215                               NaN                               NaN   \n",
       "818961390                               NaN                               NaN   \n",
       "\n",
       "                  WCIO Nature of Injury Code  \\\n",
       "Claim Identifier                               \n",
       "327160035                                NaN   \n",
       "6165075                                 90.0   \n",
       "249875936                                NaN   \n",
       "120584215                                NaN   \n",
       "818961390                                NaN   \n",
       "\n",
       "                 WCIO Nature of Injury Description  WCIO Part Of Body Code  \\\n",
       "Claim Identifier                                                             \n",
       "327160035                                      NaN                     NaN   \n",
       "6165075            MULTIPLE PHYSICAL INJURIES ONLY                    -9.0   \n",
       "249875936                                      NaN                     NaN   \n",
       "120584215                                      NaN                     NaN   \n",
       "818961390                                      NaN                     NaN   \n",
       "\n",
       "                 WCIO Part Of Body Description Zip Code  Agreement Reached  \\\n",
       "Claim Identifier                                                             \n",
       "327160035                                  NaN      NaN                NaN   \n",
       "6165075                               MULTIPLE    12779                0.0   \n",
       "249875936                                  NaN      NaN                NaN   \n",
       "120584215                                  NaN      NaN                NaN   \n",
       "818961390                                  NaN      NaN                NaN   \n",
       "\n",
       "                      WCB Decision  Number of Dependents  \n",
       "Claim Identifier                                          \n",
       "327160035                      NaN                   NaN  \n",
       "6165075           Not Work Related                   3.0  \n",
       "249875936                      NaN                   NaN  \n",
       "120584215                      NaN                   NaN  \n",
       "818961390                      NaN                   NaN  "
      ]
     },
     "execution_count": 8,
     "metadata": {},
     "output_type": "execute_result"
    }
   ],
   "source": [
    "df.tail()"
   ]
  },
  {
   "cell_type": "code",
   "execution_count": 9,
   "metadata": {},
   "outputs": [
    {
     "data": {
      "text/plain": [
       "(593471, 31)"
      ]
     },
     "execution_count": 9,
     "metadata": {},
     "output_type": "execute_result"
    }
   ],
   "source": [
    "df.shape\n"
   ]
  },
  {
   "cell_type": "markdown",
   "metadata": {},
   "source": [
    "Surprise we have a whole fucking lot of features with Dtype object"
   ]
  },
  {
   "cell_type": "code",
   "execution_count": 10,
   "metadata": {},
   "outputs": [
    {
     "name": "stdout",
     "output_type": "stream",
     "text": [
      "<class 'pandas.core.frame.DataFrame'>\n",
      "Index: 593471 entries, 5393875 to 818961390\n",
      "Data columns (total 31 columns):\n",
      " #   Column                              Non-Null Count   Dtype  \n",
      "---  ------                              --------------   -----  \n",
      " 0   Accident Date                       570337 non-null  object \n",
      " 1   Age at Injury                       574026 non-null  float64\n",
      " 2   Alternative Dispute Resolution      574026 non-null  object \n",
      " 3   Assembly Date                       593471 non-null  object \n",
      " 4   Attorney/Representative             574026 non-null  object \n",
      " 5   Average Weekly Wage                 545375 non-null  float64\n",
      " 6   Birth Year                          544948 non-null  float64\n",
      " 7   C-2 Date                            559466 non-null  object \n",
      " 8   C-3 Date                            187245 non-null  object \n",
      " 9   Carrier Name                        574026 non-null  object \n",
      " 10  Carrier Type                        574026 non-null  object \n",
      " 11  County of Injury                    574026 non-null  object \n",
      " 12  COVID-19 Indicator                  574026 non-null  object \n",
      " 13  District Name                       574026 non-null  object \n",
      " 14  First Hearing Date                  150798 non-null  object \n",
      " 15  Gender                              574026 non-null  object \n",
      " 16  IME-4 Count                         132803 non-null  float64\n",
      " 17  Industry Code                       564068 non-null  float64\n",
      " 18  Industry Code Description           564068 non-null  object \n",
      " 19  Medical Fee Region                  574026 non-null  object \n",
      " 20  OIICS Nature of Injury Description  0 non-null       float64\n",
      " 21  WCIO Cause of Injury Code           558386 non-null  float64\n",
      " 22  WCIO Cause of Injury Description    558386 non-null  object \n",
      " 23  WCIO Nature of Injury Code          558369 non-null  float64\n",
      " 24  WCIO Nature of Injury Description   558369 non-null  object \n",
      " 25  WCIO Part Of Body Code              556944 non-null  float64\n",
      " 26  WCIO Part Of Body Description       556944 non-null  object \n",
      " 27  Zip Code                            545389 non-null  object \n",
      " 28  Agreement Reached                   574026 non-null  float64\n",
      " 29  WCB Decision                        574026 non-null  object \n",
      " 30  Number of Dependents                574026 non-null  float64\n",
      "dtypes: float64(11), object(20)\n",
      "memory usage: 144.9+ MB\n"
     ]
    }
   ],
   "source": [
    "df.info()"
   ]
  },
  {
   "cell_type": "markdown",
   "metadata": {},
   "source": [
    "---"
   ]
  },
  {
   "cell_type": "markdown",
   "metadata": {},
   "source": [
    "\n",
    "\n",
    "## Percentage of missing values per feature\n"
   ]
  },
  {
   "cell_type": "code",
   "execution_count": 11,
   "metadata": {},
   "outputs": [
    {
     "data": {
      "text/plain": [
       "Accident Date                           3.898084\n",
       "Age at Injury                           3.276487\n",
       "Alternative Dispute Resolution          3.276487\n",
       "Assembly Date                           0.000000\n",
       "Attorney/Representative                 3.276487\n",
       "Average Weekly Wage                     8.104187\n",
       "Birth Year                              8.176137\n",
       "C-2 Date                                5.729850\n",
       "C-3 Date                               68.449174\n",
       "Carrier Name                            3.276487\n",
       "Carrier Type                            3.276487\n",
       "County of Injury                        3.276487\n",
       "COVID-19 Indicator                      3.276487\n",
       "District Name                           3.276487\n",
       "First Hearing Date                     74.590502\n",
       "Gender                                  3.276487\n",
       "IME-4 Count                            77.622664\n",
       "Industry Code                           4.954412\n",
       "Industry Code Description               4.954412\n",
       "Medical Fee Region                      3.276487\n",
       "OIICS Nature of Injury Description    100.000000\n",
       "WCIO Cause of Injury Code               5.911831\n",
       "WCIO Cause of Injury Description        5.911831\n",
       "WCIO Nature of Injury Code              5.914695\n",
       "WCIO Nature of Injury Description       5.914695\n",
       "WCIO Part Of Body Code                  6.154808\n",
       "WCIO Part Of Body Description           6.154808\n",
       "Zip Code                                8.101828\n",
       "Agreement Reached                       3.276487\n",
       "WCB Decision                            3.276487\n",
       "Number of Dependents                    3.276487\n",
       "dtype: float64"
      ]
     },
     "execution_count": 11,
     "metadata": {},
     "output_type": "execute_result"
    }
   ],
   "source": [
    "df.isnull().sum()/df.shape[0]*100"
   ]
  },
  {
   "cell_type": "code",
   "execution_count": 12,
   "metadata": {},
   "outputs": [
    {
     "data": {
      "text/plain": [
       "18351"
      ]
     },
     "execution_count": 12,
     "metadata": {},
     "output_type": "execute_result"
    }
   ],
   "source": [
    "#duplicated values\n",
    "df.duplicated().sum()\n"
   ]
  },
  {
   "cell_type": "code",
   "execution_count": 13,
   "metadata": {},
   "outputs": [
    {
     "data": {
      "text/html": [
       "<div>\n",
       "<style scoped>\n",
       "    .dataframe tbody tr th:only-of-type {\n",
       "        vertical-align: middle;\n",
       "    }\n",
       "\n",
       "    .dataframe tbody tr th {\n",
       "        vertical-align: top;\n",
       "    }\n",
       "\n",
       "    .dataframe thead th {\n",
       "        text-align: right;\n",
       "    }\n",
       "</style>\n",
       "<table border=\"1\" class=\"dataframe\">\n",
       "  <thead>\n",
       "    <tr style=\"text-align: right;\">\n",
       "      <th></th>\n",
       "      <th>Accident Date</th>\n",
       "      <th>Alternative Dispute Resolution</th>\n",
       "      <th>Assembly Date</th>\n",
       "      <th>Attorney/Representative</th>\n",
       "      <th>C-2 Date</th>\n",
       "      <th>C-3 Date</th>\n",
       "      <th>Carrier Name</th>\n",
       "      <th>Carrier Type</th>\n",
       "      <th>County of Injury</th>\n",
       "      <th>COVID-19 Indicator</th>\n",
       "      <th>District Name</th>\n",
       "      <th>First Hearing Date</th>\n",
       "      <th>Gender</th>\n",
       "      <th>Industry Code Description</th>\n",
       "      <th>Medical Fee Region</th>\n",
       "      <th>WCIO Cause of Injury Description</th>\n",
       "      <th>WCIO Nature of Injury Description</th>\n",
       "      <th>WCIO Part Of Body Description</th>\n",
       "      <th>Zip Code</th>\n",
       "      <th>WCB Decision</th>\n",
       "    </tr>\n",
       "  </thead>\n",
       "  <tbody>\n",
       "    <tr>\n",
       "      <th>count</th>\n",
       "      <td>570337</td>\n",
       "      <td>574026</td>\n",
       "      <td>593471</td>\n",
       "      <td>574026</td>\n",
       "      <td>559466</td>\n",
       "      <td>187245</td>\n",
       "      <td>574026</td>\n",
       "      <td>574026</td>\n",
       "      <td>574026</td>\n",
       "      <td>574026</td>\n",
       "      <td>574026</td>\n",
       "      <td>150798</td>\n",
       "      <td>574026</td>\n",
       "      <td>564068</td>\n",
       "      <td>574026</td>\n",
       "      <td>558386</td>\n",
       "      <td>558369</td>\n",
       "      <td>556944</td>\n",
       "      <td>545389</td>\n",
       "      <td>574026</td>\n",
       "    </tr>\n",
       "    <tr>\n",
       "      <th>unique</th>\n",
       "      <td>5539</td>\n",
       "      <td>3</td>\n",
       "      <td>1096</td>\n",
       "      <td>2</td>\n",
       "      <td>2475</td>\n",
       "      <td>1648</td>\n",
       "      <td>2046</td>\n",
       "      <td>8</td>\n",
       "      <td>63</td>\n",
       "      <td>2</td>\n",
       "      <td>8</td>\n",
       "      <td>1094</td>\n",
       "      <td>4</td>\n",
       "      <td>20</td>\n",
       "      <td>5</td>\n",
       "      <td>74</td>\n",
       "      <td>56</td>\n",
       "      <td>54</td>\n",
       "      <td>10060</td>\n",
       "      <td>1</td>\n",
       "    </tr>\n",
       "    <tr>\n",
       "      <th>top</th>\n",
       "      <td>2020-03-01</td>\n",
       "      <td>N</td>\n",
       "      <td>2020-03-06</td>\n",
       "      <td>N</td>\n",
       "      <td>2021-05-11</td>\n",
       "      <td>2021-04-21</td>\n",
       "      <td>STATE INSURANCE FUND</td>\n",
       "      <td>1A. PRIVATE</td>\n",
       "      <td>SUFFOLK</td>\n",
       "      <td>N</td>\n",
       "      <td>NYC</td>\n",
       "      <td>2022-04-15</td>\n",
       "      <td>M</td>\n",
       "      <td>HEALTH CARE AND SOCIAL ASSISTANCE</td>\n",
       "      <td>IV</td>\n",
       "      <td>LIFTING</td>\n",
       "      <td>STRAIN OR TEAR</td>\n",
       "      <td>LOWER BACK AREA</td>\n",
       "      <td>11236</td>\n",
       "      <td>Not Work Related</td>\n",
       "    </tr>\n",
       "    <tr>\n",
       "      <th>freq</th>\n",
       "      <td>1245</td>\n",
       "      <td>571412</td>\n",
       "      <td>1422</td>\n",
       "      <td>392291</td>\n",
       "      <td>1847</td>\n",
       "      <td>350</td>\n",
       "      <td>111144</td>\n",
       "      <td>285368</td>\n",
       "      <td>60430</td>\n",
       "      <td>546505</td>\n",
       "      <td>270779</td>\n",
       "      <td>440</td>\n",
       "      <td>335218</td>\n",
       "      <td>114339</td>\n",
       "      <td>265981</td>\n",
       "      <td>46610</td>\n",
       "      <td>153373</td>\n",
       "      <td>51862</td>\n",
       "      <td>3302</td>\n",
       "      <td>574026</td>\n",
       "    </tr>\n",
       "  </tbody>\n",
       "</table>\n",
       "</div>"
      ],
      "text/plain": [
       "       Accident Date Alternative Dispute Resolution Assembly Date  \\\n",
       "count         570337                         574026        593471   \n",
       "unique          5539                              3          1096   \n",
       "top       2020-03-01                              N    2020-03-06   \n",
       "freq            1245                         571412          1422   \n",
       "\n",
       "       Attorney/Representative    C-2 Date    C-3 Date          Carrier Name  \\\n",
       "count                   574026      559466      187245                574026   \n",
       "unique                       2        2475        1648                  2046   \n",
       "top                          N  2021-05-11  2021-04-21  STATE INSURANCE FUND   \n",
       "freq                    392291        1847         350                111144   \n",
       "\n",
       "       Carrier Type County of Injury COVID-19 Indicator District Name  \\\n",
       "count        574026           574026             574026        574026   \n",
       "unique            8               63                  2             8   \n",
       "top     1A. PRIVATE          SUFFOLK                  N           NYC   \n",
       "freq         285368            60430             546505        270779   \n",
       "\n",
       "       First Hearing Date  Gender          Industry Code Description  \\\n",
       "count              150798  574026                             564068   \n",
       "unique               1094       4                                 20   \n",
       "top            2022-04-15       M  HEALTH CARE AND SOCIAL ASSISTANCE   \n",
       "freq                  440  335218                             114339   \n",
       "\n",
       "       Medical Fee Region WCIO Cause of Injury Description  \\\n",
       "count              574026                           558386   \n",
       "unique                  5                               74   \n",
       "top                    IV                          LIFTING   \n",
       "freq               265981                            46610   \n",
       "\n",
       "       WCIO Nature of Injury Description WCIO Part Of Body Description  \\\n",
       "count                             558369                        556944   \n",
       "unique                                56                            54   \n",
       "top                       STRAIN OR TEAR               LOWER BACK AREA   \n",
       "freq                              153373                         51862   \n",
       "\n",
       "       Zip Code      WCB Decision  \n",
       "count    545389            574026  \n",
       "unique    10060                 1  \n",
       "top       11236  Not Work Related  \n",
       "freq       3302            574026  "
      ]
     },
     "execution_count": 13,
     "metadata": {},
     "output_type": "execute_result"
    }
   ],
   "source": [
    "df.describe(include='O')\n",
    "  "
   ]
  },
  {
   "cell_type": "markdown",
   "metadata": {},
   "source": [
    "### Observations\n",
    "\n",
    "#### Missing Values ####\n",
    "OIICS Nature of Injury Description has no values\n",
    "\n",
    "_`IME-4 Count`_, _`First Hearing Date`_ and _`C-3 Date`_ have >50% of entries missing ( 77.6%, 74.5 and 68.4%, respectively)\n",
    "\n",
    "#### Single Value Feature ####\n",
    "The feature _`WCB Decision`_ only has one value along the whole dataset (excluding missing values of course)\n",
    "\n",
    "#### Categorical features that could be represented as boolean ####\n",
    "Some categorical variables that only present 2 unique values, usually '1s and 0s' or 'Y or N' could be changed to boolean. Since we are not doing data pre-processing yet, these changes would have to preserve any NaN data. The variables are:\n",
    "- Agreement Reached (0s and 1s)\n",
    "- Attorney/Representative (Y or N)\n",
    "- COVID-19 Indicator (Y or N)\n",
    "\n",
    "---"
   ]
  },
  {
   "cell_type": "markdown",
   "metadata": {},
   "source": [
    "# Type conversion\n",
    "Here we are converting categorical variables that could be represented as boolean, meaning they only have two unique values, while still perserving the NaN entries present in the dataset."
   ]
  },
  {
   "cell_type": "code",
   "execution_count": 14,
   "metadata": {},
   "outputs": [
    {
     "name": "stdout",
     "output_type": "stream",
     "text": [
      "['N' 'Y' nan]\n"
     ]
    }
   ],
   "source": [
    "# Agreement Reached only has values of  0s and 1s so lets convert it to boolean\n",
    "print(df['Attorney/Representative'].unique())\n",
    "df['Agreement Reached'] = df['Agreement Reached'].astype(\"boolean\")\n"
   ]
  },
  {
   "cell_type": "code",
   "execution_count": 15,
   "metadata": {},
   "outputs": [],
   "source": [
    "#Attorney/Representative only has two types: Y and N. So we are going to change it to boolean preserving the NaNs\n",
    "df['Attorney/Representative'] = df['Attorney/Representative'].map({'Y': True, 'N': False})\n"
   ]
  },
  {
   "cell_type": "code",
   "execution_count": 16,
   "metadata": {},
   "outputs": [],
   "source": [
    "# We can do the same with the Covid-19 Indicator\n",
    "df['COVID-19 Indicator'] = df['COVID-19 Indicator'].map({'Y': True, 'N': False})"
   ]
  },
  {
   "cell_type": "markdown",
   "metadata": {},
   "source": [
    "---"
   ]
  },
  {
   "cell_type": "markdown",
   "metadata": {},
   "source": [
    "# Visual Exploration"
   ]
  },
  {
   "cell_type": "markdown",
   "metadata": {},
   "source": [
    "## Numerical Features - univariate analysis"
   ]
  },
  {
   "cell_type": "code",
   "execution_count": 17,
   "metadata": {},
   "outputs": [
    {
     "name": "stdout",
     "output_type": "stream",
     "text": [
      "['Age at Injury', 'Average Weekly Wage', 'Birth Year', 'IME-4 Count', 'Industry Code', 'OIICS Nature of Injury Description', 'WCIO Cause of Injury Code', 'WCIO Nature of Injury Code', 'WCIO Part Of Body Code', 'Number of Dependents']\n"
     ]
    },
    {
     "data": {
      "text/plain": [
       "['Age at Injury',\n",
       " 'Average Weekly Wage',\n",
       " 'Birth Year',\n",
       " 'IME-4 Count',\n",
       " 'Number of Dependents']"
      ]
     },
     "execution_count": 17,
     "metadata": {},
     "output_type": "execute_result"
    }
   ],
   "source": [
    "# numerical features only\n",
    "num_feat = list(df.select_dtypes(include='number').columns)\n",
    "print(num_feat)\n",
    "\n",
    "# remove categorical variable with code\n",
    "num_feat = [col for col in num_feat if 'Code' not in col]\n",
    "num_feat = [col for col in num_feat if 'Description' not in col]\n",
    "num_feat\n"
   ]
  },
  {
   "cell_type": "markdown",
   "metadata": {},
   "source": [
    "### Age at Injury"
   ]
  },
  {
   "cell_type": "code",
   "execution_count": 18,
   "metadata": {},
   "outputs": [
    {
     "data": {
      "image/png": "[encoded data removed]",
      "text/plain": [
       "<Figure size 640x480 with 1 Axes>"
      ]
     },
     "metadata": {},
     "output_type": "display_data"
    },
    {
     "data": {
      "text/plain": [
       "<Axes: ylabel='Age at Injury'>"
      ]
     },
     "execution_count": 18,
     "metadata": {},
     "output_type": "execute_result"
    },
    {
     "data": {
      "image/png": "[encoded data removed]",
      "text/plain": [
       "<Figure size 640x480 with 1 Axes>"
      ]
     },
     "metadata": {},
     "output_type": "display_data"
    }
   ],
   "source": [
    "#14 is the minimum age to work in New York\n",
    "sns.histplot(df[df['Age at Injury'] > 13]['Age at Injury'],)\n",
    "plt.show()\n",
    "\n",
    "sns.boxplot(df[df['Age at Injury'] > 13]['Age at Injury'])"
   ]
  },
  {
   "cell_type": "markdown",
   "metadata": {},
   "source": [
    "### Average Weekly Wage"
   ]
  },
  {
   "cell_type": "code",
   "execution_count": 19,
   "metadata": {},
   "outputs": [
    {
     "data": {
      "image/png": "[encoded data removed]",
      "text/plain": [
       "<Figure size 640x480 with 1 Axes>"
      ]
     },
     "metadata": {},
     "output_type": "display_data"
    },
    {
     "data": {
      "text/plain": [
       "<Axes: ylabel='Average Weekly Wage'>"
      ]
     },
     "execution_count": 19,
     "metadata": {},
     "output_type": "execute_result"
    },
    {
     "data": {
      "image/png": "[encoded data removed]",
      "text/plain": [
       "<Figure size 640x480 with 1 Axes>"
      ]
     },
     "metadata": {},
     "output_type": "display_data"
    }
   ],
   "source": [
    "sns.histplot(df['Average Weekly Wage'], log_scale=True)\n",
    "plt.show()\n",
    "\n",
    "sns.boxplot(df['Average Weekly Wage'])"
   ]
  },
  {
   "cell_type": "markdown",
   "metadata": {},
   "source": [
    "### Birth Year"
   ]
  },
  {
   "cell_type": "markdown",
   "metadata": {},
   "source": [
    "Here we can see that _`Birth Year`_ has 25081 entries with the value 0"
   ]
  },
  {
   "cell_type": "code",
   "execution_count": 20,
   "metadata": {},
   "outputs": [
    {
     "data": {
      "image/png": "[encoded data removed]",
      "text/plain": [
       "<Figure size 640x480 with 1 Axes>"
      ]
     },
     "metadata": {},
     "output_type": "display_data"
    },
    {
     "data": {
      "text/plain": [
       "<Axes: ylabel='Birth Year'>"
      ]
     },
     "execution_count": 20,
     "metadata": {},
     "output_type": "execute_result"
    },
    {
     "data": {
      "image/png": "[encoded data removed]",
      "text/plain": [
       "<Figure size 640x480 with 1 Axes>"
      ]
     },
     "metadata": {},
     "output_type": "display_data"
    }
   ],
   "source": [
    "sns.histplot(df[df['Birth Year'] > 0]['Birth Year'],)\n",
    "plt.show()\n",
    "\n",
    "sns.boxplot(df[df['Birth Year'] > 0]['Birth Year'])"
   ]
  },
  {
   "cell_type": "markdown",
   "metadata": {},
   "source": [
    "Here we can see that the values for Average Weekly Wage seem fine but due to the large amount of zeros, the auto attributed values for the will not work here"
   ]
  },
  {
   "cell_type": "code",
   "execution_count": 21,
   "metadata": {},
   "outputs": [
    {
     "name": "stdout",
     "output_type": "stream",
     "text": [
      "count    5.453750e+05\n",
      "mean     4.910883e+02\n",
      "std      6.092918e+03\n",
      "min      0.000000e+00\n",
      "25%      0.000000e+00\n",
      "50%      0.000000e+00\n",
      "75%      8.410000e+02\n",
      "max      2.828079e+06\n",
      "Name: Average Weekly Wage, dtype: float64\n"
     ]
    }
   ],
   "source": [
    "print(df['Average Weekly Wage'].describe())"
   ]
  },
  {
   "cell_type": "markdown",
   "metadata": {},
   "source": [
    "### Number of Dependents"
   ]
  },
  {
   "cell_type": "code",
   "execution_count": 22,
   "metadata": {},
   "outputs": [
    {
     "data": {
      "image/png": "[encoded data removed]",
      "text/plain": [
       "<Figure size 640x480 with 1 Axes>"
      ]
     },
     "metadata": {},
     "output_type": "display_data"
    },
    {
     "data": {
      "text/plain": [
       "<Axes: ylabel='Number of Dependents'>"
      ]
     },
     "execution_count": 22,
     "metadata": {},
     "output_type": "execute_result"
    },
    {
     "data": {
      "image/png": "[encoded data removed]",
      "text/plain": [
       "<Figure size 640x480 with 1 Axes>"
      ]
     },
     "metadata": {},
     "output_type": "display_data"
    }
   ],
   "source": [
    "sns.countplot(x='Number of Dependents', data=df)\n",
    "plt.xlabel('Number of Dependents')\n",
    "plt.ylabel('Count')\n",
    "plt.title('Distribution of Number of Dependents')\n",
    "plt.show()\n",
    "\n",
    "sns.boxplot(df['Number of Dependents'])"
   ]
  },
  {
   "cell_type": "markdown",
   "metadata": {},
   "source": [
    "### IME-4 Count"
   ]
  },
  {
   "cell_type": "code",
   "execution_count": 23,
   "metadata": {},
   "outputs": [
    {
     "data": {
      "image/png": "[encoded data removed]",
      "text/plain": [
       "<Figure size 640x480 with 1 Axes>"
      ]
     },
     "metadata": {},
     "output_type": "display_data"
    },
    {
     "data": {
      "text/plain": [
       "<Axes: ylabel='IME-4 Count'>"
      ]
     },
     "execution_count": 23,
     "metadata": {},
     "output_type": "execute_result"
    },
    {
     "data": {
      "image/png": "[encoded data removed]",
      "text/plain": [
       "<Figure size 640x480 with 1 Axes>"
      ]
     },
     "metadata": {},
     "output_type": "display_data"
    }
   ],
   "source": [
    "'IME-4 Count'\n",
    "\n",
    "sns.countplot(x='IME-4 Count', data=df)\n",
    "plt.xlabel('IME-4 Count')\n",
    "plt.ylabel('Count')\n",
    "plt.xticks(rotation=90) \n",
    "plt.title('Distribution of IME-4 Count')\n",
    "plt.show()\n",
    "\n",
    "sns.boxplot(df['IME-4 Count'])"
   ]
  },
  {
   "cell_type": "markdown",
   "metadata": {},
   "source": [
    "----"
   ]
  },
  {
   "cell_type": "markdown",
   "metadata": {},
   "source": [
    "## Categorical Features"
   ]
  },
  {
   "cell_type": "code",
   "execution_count": 24,
   "metadata": {},
   "outputs": [
    {
     "data": {
      "text/plain": [
       "['Accident Date',\n",
       " 'Assembly Date',\n",
       " 'C-3 Date',\n",
       " 'Industry Code Description',\n",
       " 'WCB Decision',\n",
       " 'Carrier Name',\n",
       " 'WCIO Part Of Body Code',\n",
       " 'OIICS Nature of Injury Description',\n",
       " 'COVID-19 Indicator',\n",
       " 'First Hearing Date',\n",
       " 'Alternative Dispute Resolution',\n",
       " 'Attorney/Representative',\n",
       " 'Zip Code',\n",
       " 'Medical Fee Region',\n",
       " 'County of Injury',\n",
       " 'WCIO Nature of Injury Description',\n",
       " 'WCIO Nature of Injury Code',\n",
       " 'Carrier Type',\n",
       " 'Industry Code',\n",
       " 'District Name',\n",
       " 'WCIO Cause of Injury Code',\n",
       " 'C-2 Date',\n",
       " 'WCIO Part Of Body Description',\n",
       " 'Gender',\n",
       " 'WCIO Cause of Injury Description']"
      ]
     },
     "execution_count": 24,
     "metadata": {},
     "output_type": "execute_result"
    }
   ],
   "source": [
    "# select categorical features\n",
    "df_cat = df.select_dtypes(include='object').columns.tolist()\n",
    "\n",
    "# add columns that contain 'Code' or 'Description' in their name\n",
    "df_cat += [col for col in df.columns if 'Code' in col or 'Description' in col]\n",
    "\n",
    "# remove any duplicates (in case a column is already in both categories)\n",
    "df_cat = list(set(df_cat))\n",
    "\n",
    "df_cat"
   ]
  },
  {
   "cell_type": "code",
   "execution_count": null,
   "metadata": {},
   "outputs": [],
   "source": []
  },
  {
   "cell_type": "code",
   "execution_count": 25,
   "metadata": {},
   "outputs": [],
   "source": [
    "profile = ProfileReport(\n",
    "    df, \n",
    "    title='Workers Stuff Data',\n",
    "    correlations={\n",
    "        \"pearson\": {\"calculate\": True},\n",
    "        \"spearman\": {\"calculate\": False},\n",
    "        \"kendall\": {\"calculate\": False},\n",
    "        \"phi_k\": {\"calculate\": False},\n",
    "        \"cramers\": {\"calculate\": False},\n",
    "    },\n",
    ")"
   ]
  },
  {
   "cell_type": "code",
   "execution_count": null,
   "metadata": {},
   "outputs": [
    {
     "data": {
      "application/vnd.jupyter.widget-view+json": {
       "model_id": "1bbdf819b4cc428ab51709d8e24b4658",
       "version_major": 2,
       "version_minor": 0
      },
      "text/plain": [
       "Summarize dataset:   0%|          | 0/5 [00:00<?, ?it/s]"
      ]
     },
     "metadata": {},
     "output_type": "display_data"
    },
    {
     "data": {
      "application/vnd.jupyter.widget-view+json": {
       "model_id": "289bc8243d524f7286fac4367f7c508b",
       "version_major": 2,
       "version_minor": 0
      },
      "text/plain": [
       "Generate report structure:   0%|          | 0/1 [00:00<?, ?it/s]"
      ]
     },
     "metadata": {},
     "output_type": "display_data"
    },
    {
     "data": {
      "application/vnd.jupyter.widget-view+json": {
       "model_id": "a9138168ada64815a858fb206f3aff47",
       "version_major": 2,
       "version_minor": 0
      },
      "text/plain": [
       "Render HTML:   0%|          | 0/1 [00:00<?, ?it/s]"
      ]
     },
     "metadata": {},
     "output_type": "display_data"
    }
   ],
   "source": [
    "profile.to_notebook_iframe()"
   ]
  }
 ],
 "metadata": {
  "kernelspec": {
   "display_name": "DM2425",
   "language": "python",
   "name": "python3"
  },
  "language_info": {
   "codemirror_mode": {
    "name": "ipython",
    "version": 3
   },
   "file_extension": ".py",
   "mimetype": "text/x-python",
   "name": "python",
   "nbconvert_exporter": "python",
   "pygments_lexer": "ipython3",
   "version": "3.12.7"
  }
 },
 "nbformat": 4,
 "nbformat_minor": 2
}
