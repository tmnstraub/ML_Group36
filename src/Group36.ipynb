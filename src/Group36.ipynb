{
 "cells": [
  {
   "cell_type": "markdown",
   "metadata": {},
   "source": [
    "<a id = \"toc\"></a>\n",
    "\n",
    "# Table of Content\n",
    "\n",
    "* [1. Import the Libraries and Dataset](#import_libsAndData)\n",
    "* [2. Exploratory Data Analysis](#eda)\n",
    "* [3. Data Pre-Processing](#data_preprocessing)\n",
    "    * [3.1 Numerical Features](#numerical_features)\n",
    "    * [3.2 Categorical Features](#categorical_features)\n",
    "* [4. Feature Selection](#feature_selection)\n",
    "* [5. Model Training](#model_training)\n",
    "* [6. Performance Assesment](#performance_assesment)\n",
    "\n",
    "\n",
    "\n"
   ]
  },
  {
   "cell_type": "markdown",
   "metadata": {},
   "source": [
    "# 1. Import the Libraries and Dataset <a class=\"anchor\" id=\"import_libsAndData\"></a>"
   ]
  },
  {
   "cell_type": "code",
   "execution_count": 89,
   "metadata": {},
   "outputs": [],
   "source": [
    "import pandas as pd\n",
    "import numpy as np\n",
    "import seaborn as sns\n",
    "import matplotlib.pyplot as plt\n",
    "from math import ceil\n",
    "from ydata_profiling import ProfileReport"
   ]
  },
  {
   "cell_type": "code",
   "execution_count": 90,
   "metadata": {},
   "outputs": [],
   "source": [
    "pd.set_option('display.max_columns', 500)\n",
    "pd.set_option('display.max_rows', 500)"
   ]
  },
  {
   "cell_type": "code",
   "execution_count": null,
   "metadata": {},
   "outputs": [],
   "source": [
    "train_data = pd.read_csv('../Data/train_data.csv', index_col='Claim Identifier')\n"
   ]
  },
  {
   "cell_type": "code",
   "execution_count": null,
   "metadata": {},
   "outputs": [],
   "source": [
    "train_data.tail()"
   ]
  },
  {
   "cell_type": "code",
   "execution_count": null,
   "metadata": {},
   "outputs": [],
   "source": [
    "train_data.shape\n"
   ]
  },
  {
   "cell_type": "markdown",
   "metadata": {},
   "source": [
    "Surprise we have a whole fucking lot of features with Dtype object"
   ]
  },
  {
   "cell_type": "code",
   "execution_count": null,
   "metadata": {},
   "outputs": [],
   "source": [
    "train_data.info()"
   ]
  },
  {
   "cell_type": "code",
   "execution_count": null,
   "metadata": {},
   "outputs": [],
   "source": [
    "train_data.describe(include='all')"
   ]
  },
  {
   "cell_type": "code",
   "execution_count": 97,
   "metadata": {},
   "outputs": [
    {
     "data": {
      "text/html": [
       "<div>\n",
       "<style scoped>\n",
       "    .dataframe tbody tr th:only-of-type {\n",
       "        vertical-align: middle;\n",
       "    }\n",
       "\n",
       "    .dataframe tbody tr th {\n",
       "        vertical-align: top;\n",
       "    }\n",
       "\n",
       "    .dataframe thead th {\n",
       "        text-align: right;\n",
       "    }\n",
       "</style>\n",
       "<table border=\"1\" class=\"dataframe\">\n",
       "  <thead>\n",
       "    <tr style=\"text-align: right;\">\n",
       "      <th></th>\n",
       "      <th>Accident Date</th>\n",
       "      <th>Age at Injury</th>\n",
       "      <th>Alternative Dispute Resolution</th>\n",
       "      <th>Assembly Date</th>\n",
       "      <th>Attorney/Representative</th>\n",
       "      <th>Average Weekly Wage</th>\n",
       "      <th>Birth Year</th>\n",
       "      <th>C-2 Date</th>\n",
       "      <th>C-3 Date</th>\n",
       "      <th>Carrier Name</th>\n",
       "      <th>Carrier Type</th>\n",
       "      <th>County of Injury</th>\n",
       "      <th>COVID-19 Indicator</th>\n",
       "      <th>District Name</th>\n",
       "      <th>First Hearing Date</th>\n",
       "      <th>Gender</th>\n",
       "      <th>IME-4 Count</th>\n",
       "      <th>Industry Code</th>\n",
       "      <th>Industry Code Description</th>\n",
       "      <th>Medical Fee Region</th>\n",
       "      <th>OIICS Nature of Injury Description</th>\n",
       "      <th>WCIO Cause of Injury Code</th>\n",
       "      <th>WCIO Cause of Injury Description</th>\n",
       "      <th>WCIO Nature of Injury Code</th>\n",
       "      <th>WCIO Nature of Injury Description</th>\n",
       "      <th>WCIO Part Of Body Code</th>\n",
       "      <th>WCIO Part Of Body Description</th>\n",
       "      <th>Zip Code</th>\n",
       "      <th>Agreement Reached</th>\n",
       "      <th>WCB Decision</th>\n",
       "      <th>Number of Dependents</th>\n",
       "    </tr>\n",
       "  </thead>\n",
       "  <tbody>\n",
       "    <tr>\n",
       "      <th>count</th>\n",
       "      <td>570337</td>\n",
       "      <td>574026.000000</td>\n",
       "      <td>574026</td>\n",
       "      <td>593471</td>\n",
       "      <td>574026</td>\n",
       "      <td>5.453750e+05</td>\n",
       "      <td>544948.000000</td>\n",
       "      <td>559466</td>\n",
       "      <td>187245</td>\n",
       "      <td>574026</td>\n",
       "      <td>574026</td>\n",
       "      <td>574026</td>\n",
       "      <td>574026</td>\n",
       "      <td>574026</td>\n",
       "      <td>150798</td>\n",
       "      <td>574026</td>\n",
       "      <td>132803.000000</td>\n",
       "      <td>564068.000000</td>\n",
       "      <td>564068</td>\n",
       "      <td>574026</td>\n",
       "      <td>0.0</td>\n",
       "      <td>558386.000000</td>\n",
       "      <td>558386</td>\n",
       "      <td>558369.000000</td>\n",
       "      <td>558369</td>\n",
       "      <td>556944.000000</td>\n",
       "      <td>556944</td>\n",
       "      <td>545389</td>\n",
       "      <td>574026.000000</td>\n",
       "      <td>574026</td>\n",
       "      <td>574026.000000</td>\n",
       "    </tr>\n",
       "    <tr>\n",
       "      <th>unique</th>\n",
       "      <td>5539</td>\n",
       "      <td>NaN</td>\n",
       "      <td>3</td>\n",
       "      <td>1096</td>\n",
       "      <td>2</td>\n",
       "      <td>NaN</td>\n",
       "      <td>NaN</td>\n",
       "      <td>2475</td>\n",
       "      <td>1648</td>\n",
       "      <td>2046</td>\n",
       "      <td>8</td>\n",
       "      <td>63</td>\n",
       "      <td>2</td>\n",
       "      <td>8</td>\n",
       "      <td>1094</td>\n",
       "      <td>4</td>\n",
       "      <td>NaN</td>\n",
       "      <td>NaN</td>\n",
       "      <td>20</td>\n",
       "      <td>5</td>\n",
       "      <td>NaN</td>\n",
       "      <td>NaN</td>\n",
       "      <td>74</td>\n",
       "      <td>NaN</td>\n",
       "      <td>56</td>\n",
       "      <td>NaN</td>\n",
       "      <td>54</td>\n",
       "      <td>10060</td>\n",
       "      <td>NaN</td>\n",
       "      <td>1</td>\n",
       "      <td>NaN</td>\n",
       "    </tr>\n",
       "    <tr>\n",
       "      <th>top</th>\n",
       "      <td>2020-03-01</td>\n",
       "      <td>NaN</td>\n",
       "      <td>N</td>\n",
       "      <td>2020-03-06</td>\n",
       "      <td>N</td>\n",
       "      <td>NaN</td>\n",
       "      <td>NaN</td>\n",
       "      <td>2021-05-11</td>\n",
       "      <td>2021-04-21</td>\n",
       "      <td>STATE INSURANCE FUND</td>\n",
       "      <td>1A. PRIVATE</td>\n",
       "      <td>SUFFOLK</td>\n",
       "      <td>N</td>\n",
       "      <td>NYC</td>\n",
       "      <td>2022-04-15</td>\n",
       "      <td>M</td>\n",
       "      <td>NaN</td>\n",
       "      <td>NaN</td>\n",
       "      <td>HEALTH CARE AND SOCIAL ASSISTANCE</td>\n",
       "      <td>IV</td>\n",
       "      <td>NaN</td>\n",
       "      <td>NaN</td>\n",
       "      <td>LIFTING</td>\n",
       "      <td>NaN</td>\n",
       "      <td>STRAIN OR TEAR</td>\n",
       "      <td>NaN</td>\n",
       "      <td>LOWER BACK AREA</td>\n",
       "      <td>11236</td>\n",
       "      <td>NaN</td>\n",
       "      <td>Not Work Related</td>\n",
       "      <td>NaN</td>\n",
       "    </tr>\n",
       "    <tr>\n",
       "      <th>freq</th>\n",
       "      <td>1245</td>\n",
       "      <td>NaN</td>\n",
       "      <td>571412</td>\n",
       "      <td>1422</td>\n",
       "      <td>392291</td>\n",
       "      <td>NaN</td>\n",
       "      <td>NaN</td>\n",
       "      <td>1847</td>\n",
       "      <td>350</td>\n",
       "      <td>111144</td>\n",
       "      <td>285368</td>\n",
       "      <td>60430</td>\n",
       "      <td>546505</td>\n",
       "      <td>270779</td>\n",
       "      <td>440</td>\n",
       "      <td>335218</td>\n",
       "      <td>NaN</td>\n",
       "      <td>NaN</td>\n",
       "      <td>114339</td>\n",
       "      <td>265981</td>\n",
       "      <td>NaN</td>\n",
       "      <td>NaN</td>\n",
       "      <td>46610</td>\n",
       "      <td>NaN</td>\n",
       "      <td>153373</td>\n",
       "      <td>NaN</td>\n",
       "      <td>51862</td>\n",
       "      <td>3302</td>\n",
       "      <td>NaN</td>\n",
       "      <td>574026</td>\n",
       "      <td>NaN</td>\n",
       "    </tr>\n",
       "    <tr>\n",
       "      <th>mean</th>\n",
       "      <td>NaN</td>\n",
       "      <td>42.114270</td>\n",
       "      <td>NaN</td>\n",
       "      <td>NaN</td>\n",
       "      <td>NaN</td>\n",
       "      <td>4.910883e+02</td>\n",
       "      <td>1886.767604</td>\n",
       "      <td>NaN</td>\n",
       "      <td>NaN</td>\n",
       "      <td>NaN</td>\n",
       "      <td>NaN</td>\n",
       "      <td>NaN</td>\n",
       "      <td>NaN</td>\n",
       "      <td>NaN</td>\n",
       "      <td>NaN</td>\n",
       "      <td>NaN</td>\n",
       "      <td>3.207337</td>\n",
       "      <td>58.645305</td>\n",
       "      <td>NaN</td>\n",
       "      <td>NaN</td>\n",
       "      <td>NaN</td>\n",
       "      <td>54.381143</td>\n",
       "      <td>NaN</td>\n",
       "      <td>41.013839</td>\n",
       "      <td>NaN</td>\n",
       "      <td>39.738146</td>\n",
       "      <td>NaN</td>\n",
       "      <td>NaN</td>\n",
       "      <td>0.046665</td>\n",
       "      <td>NaN</td>\n",
       "      <td>3.006559</td>\n",
       "    </tr>\n",
       "    <tr>\n",
       "      <th>std</th>\n",
       "      <td>NaN</td>\n",
       "      <td>14.256432</td>\n",
       "      <td>NaN</td>\n",
       "      <td>NaN</td>\n",
       "      <td>NaN</td>\n",
       "      <td>6.092918e+03</td>\n",
       "      <td>414.644423</td>\n",
       "      <td>NaN</td>\n",
       "      <td>NaN</td>\n",
       "      <td>NaN</td>\n",
       "      <td>NaN</td>\n",
       "      <td>NaN</td>\n",
       "      <td>NaN</td>\n",
       "      <td>NaN</td>\n",
       "      <td>NaN</td>\n",
       "      <td>NaN</td>\n",
       "      <td>2.832303</td>\n",
       "      <td>19.644175</td>\n",
       "      <td>NaN</td>\n",
       "      <td>NaN</td>\n",
       "      <td>NaN</td>\n",
       "      <td>25.874281</td>\n",
       "      <td>NaN</td>\n",
       "      <td>22.207521</td>\n",
       "      <td>NaN</td>\n",
       "      <td>22.365940</td>\n",
       "      <td>NaN</td>\n",
       "      <td>NaN</td>\n",
       "      <td>0.210921</td>\n",
       "      <td>NaN</td>\n",
       "      <td>2.000801</td>\n",
       "    </tr>\n",
       "    <tr>\n",
       "      <th>min</th>\n",
       "      <td>NaN</td>\n",
       "      <td>0.000000</td>\n",
       "      <td>NaN</td>\n",
       "      <td>NaN</td>\n",
       "      <td>NaN</td>\n",
       "      <td>0.000000e+00</td>\n",
       "      <td>0.000000</td>\n",
       "      <td>NaN</td>\n",
       "      <td>NaN</td>\n",
       "      <td>NaN</td>\n",
       "      <td>NaN</td>\n",
       "      <td>NaN</td>\n",
       "      <td>NaN</td>\n",
       "      <td>NaN</td>\n",
       "      <td>NaN</td>\n",
       "      <td>NaN</td>\n",
       "      <td>1.000000</td>\n",
       "      <td>11.000000</td>\n",
       "      <td>NaN</td>\n",
       "      <td>NaN</td>\n",
       "      <td>NaN</td>\n",
       "      <td>1.000000</td>\n",
       "      <td>NaN</td>\n",
       "      <td>1.000000</td>\n",
       "      <td>NaN</td>\n",
       "      <td>-9.000000</td>\n",
       "      <td>NaN</td>\n",
       "      <td>NaN</td>\n",
       "      <td>0.000000</td>\n",
       "      <td>NaN</td>\n",
       "      <td>0.000000</td>\n",
       "    </tr>\n",
       "    <tr>\n",
       "      <th>25%</th>\n",
       "      <td>NaN</td>\n",
       "      <td>31.000000</td>\n",
       "      <td>NaN</td>\n",
       "      <td>NaN</td>\n",
       "      <td>NaN</td>\n",
       "      <td>0.000000e+00</td>\n",
       "      <td>1965.000000</td>\n",
       "      <td>NaN</td>\n",
       "      <td>NaN</td>\n",
       "      <td>NaN</td>\n",
       "      <td>NaN</td>\n",
       "      <td>NaN</td>\n",
       "      <td>NaN</td>\n",
       "      <td>NaN</td>\n",
       "      <td>NaN</td>\n",
       "      <td>NaN</td>\n",
       "      <td>1.000000</td>\n",
       "      <td>45.000000</td>\n",
       "      <td>NaN</td>\n",
       "      <td>NaN</td>\n",
       "      <td>NaN</td>\n",
       "      <td>31.000000</td>\n",
       "      <td>NaN</td>\n",
       "      <td>16.000000</td>\n",
       "      <td>NaN</td>\n",
       "      <td>33.000000</td>\n",
       "      <td>NaN</td>\n",
       "      <td>NaN</td>\n",
       "      <td>0.000000</td>\n",
       "      <td>NaN</td>\n",
       "      <td>1.000000</td>\n",
       "    </tr>\n",
       "    <tr>\n",
       "      <th>50%</th>\n",
       "      <td>NaN</td>\n",
       "      <td>42.000000</td>\n",
       "      <td>NaN</td>\n",
       "      <td>NaN</td>\n",
       "      <td>NaN</td>\n",
       "      <td>0.000000e+00</td>\n",
       "      <td>1977.000000</td>\n",
       "      <td>NaN</td>\n",
       "      <td>NaN</td>\n",
       "      <td>NaN</td>\n",
       "      <td>NaN</td>\n",
       "      <td>NaN</td>\n",
       "      <td>NaN</td>\n",
       "      <td>NaN</td>\n",
       "      <td>NaN</td>\n",
       "      <td>NaN</td>\n",
       "      <td>2.000000</td>\n",
       "      <td>61.000000</td>\n",
       "      <td>NaN</td>\n",
       "      <td>NaN</td>\n",
       "      <td>NaN</td>\n",
       "      <td>56.000000</td>\n",
       "      <td>NaN</td>\n",
       "      <td>49.000000</td>\n",
       "      <td>NaN</td>\n",
       "      <td>38.000000</td>\n",
       "      <td>NaN</td>\n",
       "      <td>NaN</td>\n",
       "      <td>0.000000</td>\n",
       "      <td>NaN</td>\n",
       "      <td>3.000000</td>\n",
       "    </tr>\n",
       "    <tr>\n",
       "      <th>75%</th>\n",
       "      <td>NaN</td>\n",
       "      <td>54.000000</td>\n",
       "      <td>NaN</td>\n",
       "      <td>NaN</td>\n",
       "      <td>NaN</td>\n",
       "      <td>8.410000e+02</td>\n",
       "      <td>1989.000000</td>\n",
       "      <td>NaN</td>\n",
       "      <td>NaN</td>\n",
       "      <td>NaN</td>\n",
       "      <td>NaN</td>\n",
       "      <td>NaN</td>\n",
       "      <td>NaN</td>\n",
       "      <td>NaN</td>\n",
       "      <td>NaN</td>\n",
       "      <td>NaN</td>\n",
       "      <td>4.000000</td>\n",
       "      <td>71.000000</td>\n",
       "      <td>NaN</td>\n",
       "      <td>NaN</td>\n",
       "      <td>NaN</td>\n",
       "      <td>75.000000</td>\n",
       "      <td>NaN</td>\n",
       "      <td>52.000000</td>\n",
       "      <td>NaN</td>\n",
       "      <td>53.000000</td>\n",
       "      <td>NaN</td>\n",
       "      <td>NaN</td>\n",
       "      <td>0.000000</td>\n",
       "      <td>NaN</td>\n",
       "      <td>5.000000</td>\n",
       "    </tr>\n",
       "    <tr>\n",
       "      <th>max</th>\n",
       "      <td>NaN</td>\n",
       "      <td>117.000000</td>\n",
       "      <td>NaN</td>\n",
       "      <td>NaN</td>\n",
       "      <td>NaN</td>\n",
       "      <td>2.828079e+06</td>\n",
       "      <td>2018.000000</td>\n",
       "      <td>NaN</td>\n",
       "      <td>NaN</td>\n",
       "      <td>NaN</td>\n",
       "      <td>NaN</td>\n",
       "      <td>NaN</td>\n",
       "      <td>NaN</td>\n",
       "      <td>NaN</td>\n",
       "      <td>NaN</td>\n",
       "      <td>NaN</td>\n",
       "      <td>73.000000</td>\n",
       "      <td>92.000000</td>\n",
       "      <td>NaN</td>\n",
       "      <td>NaN</td>\n",
       "      <td>NaN</td>\n",
       "      <td>99.000000</td>\n",
       "      <td>NaN</td>\n",
       "      <td>91.000000</td>\n",
       "      <td>NaN</td>\n",
       "      <td>99.000000</td>\n",
       "      <td>NaN</td>\n",
       "      <td>NaN</td>\n",
       "      <td>1.000000</td>\n",
       "      <td>NaN</td>\n",
       "      <td>6.000000</td>\n",
       "    </tr>\n",
       "  </tbody>\n",
       "</table>\n",
       "</div>"
      ],
      "text/plain": [
       "       Accident Date  Age at Injury Alternative Dispute Resolution  \\\n",
       "count         570337  574026.000000                         574026   \n",
       "unique          5539            NaN                              3   \n",
       "top       2020-03-01            NaN                              N   \n",
       "freq            1245            NaN                         571412   \n",
       "mean             NaN      42.114270                            NaN   \n",
       "std              NaN      14.256432                            NaN   \n",
       "min              NaN       0.000000                            NaN   \n",
       "25%              NaN      31.000000                            NaN   \n",
       "50%              NaN      42.000000                            NaN   \n",
       "75%              NaN      54.000000                            NaN   \n",
       "max              NaN     117.000000                            NaN   \n",
       "\n",
       "       Assembly Date Attorney/Representative  Average Weekly Wage  \\\n",
       "count         593471                  574026         5.453750e+05   \n",
       "unique          1096                       2                  NaN   \n",
       "top       2020-03-06                       N                  NaN   \n",
       "freq            1422                  392291                  NaN   \n",
       "mean             NaN                     NaN         4.910883e+02   \n",
       "std              NaN                     NaN         6.092918e+03   \n",
       "min              NaN                     NaN         0.000000e+00   \n",
       "25%              NaN                     NaN         0.000000e+00   \n",
       "50%              NaN                     NaN         0.000000e+00   \n",
       "75%              NaN                     NaN         8.410000e+02   \n",
       "max              NaN                     NaN         2.828079e+06   \n",
       "\n",
       "           Birth Year    C-2 Date    C-3 Date          Carrier Name  \\\n",
       "count   544948.000000      559466      187245                574026   \n",
       "unique            NaN        2475        1648                  2046   \n",
       "top               NaN  2021-05-11  2021-04-21  STATE INSURANCE FUND   \n",
       "freq              NaN        1847         350                111144   \n",
       "mean      1886.767604         NaN         NaN                   NaN   \n",
       "std        414.644423         NaN         NaN                   NaN   \n",
       "min          0.000000         NaN         NaN                   NaN   \n",
       "25%       1965.000000         NaN         NaN                   NaN   \n",
       "50%       1977.000000         NaN         NaN                   NaN   \n",
       "75%       1989.000000         NaN         NaN                   NaN   \n",
       "max       2018.000000         NaN         NaN                   NaN   \n",
       "\n",
       "       Carrier Type County of Injury COVID-19 Indicator District Name  \\\n",
       "count        574026           574026             574026        574026   \n",
       "unique            8               63                  2             8   \n",
       "top     1A. PRIVATE          SUFFOLK                  N           NYC   \n",
       "freq         285368            60430             546505        270779   \n",
       "mean            NaN              NaN                NaN           NaN   \n",
       "std             NaN              NaN                NaN           NaN   \n",
       "min             NaN              NaN                NaN           NaN   \n",
       "25%             NaN              NaN                NaN           NaN   \n",
       "50%             NaN              NaN                NaN           NaN   \n",
       "75%             NaN              NaN                NaN           NaN   \n",
       "max             NaN              NaN                NaN           NaN   \n",
       "\n",
       "       First Hearing Date  Gender    IME-4 Count  Industry Code  \\\n",
       "count              150798  574026  132803.000000  564068.000000   \n",
       "unique               1094       4            NaN            NaN   \n",
       "top            2022-04-15       M            NaN            NaN   \n",
       "freq                  440  335218            NaN            NaN   \n",
       "mean                  NaN     NaN       3.207337      58.645305   \n",
       "std                   NaN     NaN       2.832303      19.644175   \n",
       "min                   NaN     NaN       1.000000      11.000000   \n",
       "25%                   NaN     NaN       1.000000      45.000000   \n",
       "50%                   NaN     NaN       2.000000      61.000000   \n",
       "75%                   NaN     NaN       4.000000      71.000000   \n",
       "max                   NaN     NaN      73.000000      92.000000   \n",
       "\n",
       "                Industry Code Description Medical Fee Region  \\\n",
       "count                              564068             574026   \n",
       "unique                                 20                  5   \n",
       "top     HEALTH CARE AND SOCIAL ASSISTANCE                 IV   \n",
       "freq                               114339             265981   \n",
       "mean                                  NaN                NaN   \n",
       "std                                   NaN                NaN   \n",
       "min                                   NaN                NaN   \n",
       "25%                                   NaN                NaN   \n",
       "50%                                   NaN                NaN   \n",
       "75%                                   NaN                NaN   \n",
       "max                                   NaN                NaN   \n",
       "\n",
       "        OIICS Nature of Injury Description  WCIO Cause of Injury Code  \\\n",
       "count                                  0.0              558386.000000   \n",
       "unique                                 NaN                        NaN   \n",
       "top                                    NaN                        NaN   \n",
       "freq                                   NaN                        NaN   \n",
       "mean                                   NaN                  54.381143   \n",
       "std                                    NaN                  25.874281   \n",
       "min                                    NaN                   1.000000   \n",
       "25%                                    NaN                  31.000000   \n",
       "50%                                    NaN                  56.000000   \n",
       "75%                                    NaN                  75.000000   \n",
       "max                                    NaN                  99.000000   \n",
       "\n",
       "       WCIO Cause of Injury Description  WCIO Nature of Injury Code  \\\n",
       "count                            558386               558369.000000   \n",
       "unique                               74                         NaN   \n",
       "top                             LIFTING                         NaN   \n",
       "freq                              46610                         NaN   \n",
       "mean                                NaN                   41.013839   \n",
       "std                                 NaN                   22.207521   \n",
       "min                                 NaN                    1.000000   \n",
       "25%                                 NaN                   16.000000   \n",
       "50%                                 NaN                   49.000000   \n",
       "75%                                 NaN                   52.000000   \n",
       "max                                 NaN                   91.000000   \n",
       "\n",
       "       WCIO Nature of Injury Description  WCIO Part Of Body Code  \\\n",
       "count                             558369           556944.000000   \n",
       "unique                                56                     NaN   \n",
       "top                       STRAIN OR TEAR                     NaN   \n",
       "freq                              153373                     NaN   \n",
       "mean                                 NaN               39.738146   \n",
       "std                                  NaN               22.365940   \n",
       "min                                  NaN               -9.000000   \n",
       "25%                                  NaN               33.000000   \n",
       "50%                                  NaN               38.000000   \n",
       "75%                                  NaN               53.000000   \n",
       "max                                  NaN               99.000000   \n",
       "\n",
       "       WCIO Part Of Body Description Zip Code  Agreement Reached  \\\n",
       "count                         556944   545389      574026.000000   \n",
       "unique                            54    10060                NaN   \n",
       "top                  LOWER BACK AREA    11236                NaN   \n",
       "freq                           51862     3302                NaN   \n",
       "mean                             NaN      NaN           0.046665   \n",
       "std                              NaN      NaN           0.210921   \n",
       "min                              NaN      NaN           0.000000   \n",
       "25%                              NaN      NaN           0.000000   \n",
       "50%                              NaN      NaN           0.000000   \n",
       "75%                              NaN      NaN           0.000000   \n",
       "max                              NaN      NaN           1.000000   \n",
       "\n",
       "            WCB Decision  Number of Dependents  \n",
       "count             574026         574026.000000  \n",
       "unique                 1                   NaN  \n",
       "top     Not Work Related                   NaN  \n",
       "freq              574026                   NaN  \n",
       "mean                 NaN              3.006559  \n",
       "std                  NaN              2.000801  \n",
       "min                  NaN              0.000000  \n",
       "25%                  NaN              1.000000  \n",
       "50%                  NaN              3.000000  \n",
       "75%                  NaN              5.000000  \n",
       "max                  NaN              6.000000  "
      ]
     },
     "execution_count": 97,
     "metadata": {},
     "output_type": "execute_result"
    }
   ],
   "source": [
    "df.describe(include='all')"
   ]
  },
  {
   "cell_type": "markdown",
   "metadata": {},
   "source": [
    "We have duplicate values that need to be removed"
   ]
  },
  {
   "cell_type": "code",
   "execution_count": null,
   "metadata": {},
   "outputs": [],
   "source": [
    "#duplicated values\n",
    "train_data.duplicated().sum()"
   ]
  },
  {
   "cell_type": "markdown",
   "metadata": {},
   "source": [
    "Since this all the claims have _`Assembly Date`_ we can assume that in order to have a claim you always have a _`Claim Identifier`_ (that we use as index) and an _`Assembly Date`_. So let's check the rows that only have _`Assembly Date`_ filled, i.e, empty rows."
   ]
  },
  {
   "cell_type": "code",
   "execution_count": null,
   "metadata": {},
   "outputs": [],
   "source": [
    "\n",
    "only_assembly_date = train_data.drop(columns=['Assembly Date']).isnull().all(axis=1) & train_data['Assembly Date'].notnull()\n",
    "\n",
    "\n",
    "num_only_assembly_date_filled = only_assembly_date.sum()\n",
    "print(f\"Number of rows with only 'Assembly Date' filled: {num_only_assembly_date_filled}\")"
   ]
  },
  {
   "cell_type": "markdown",
   "metadata": {},
   "source": [
    "---"
   ]
  },
  {
   "cell_type": "markdown",
   "metadata": {},
   "source": [
    "\n",
    "\n",
    "## Percentage of missing values per feature\n"
   ]
  },
  {
   "cell_type": "code",
   "execution_count": null,
   "metadata": {},
   "outputs": [],
   "source": [
    "train_data.isnull().sum()/train_data.shape[0]*100"
   ]
  },
  {
   "cell_type": "code",
   "execution_count": null,
   "metadata": {},
   "outputs": [],
   "source": [
    "train_data.describe(include='O')\n",
    "  "
   ]
  },
  {
   "cell_type": "markdown",
   "metadata": {},
   "source": [
    "### Observations\n",
    "\n",
    "#### Missing Values ####\n",
    "OIICS Nature of Injury Description has no values\n",
    "\n",
    "_`IME-4 Count`_, _`First Hearing Date`_ and _`C-3 Date`_ have >50% of entries missing ( 77.6%, 74.5 and 68.4%, respectively)\n",
    "\n",
    "#### Single Value Feature ####\n",
    "The feature _`WCB Decision`_ only has one value along the whole dataset (excluding missing values of course)\n",
    "\n",
    "#### Categorical features that could be represented as boolean ####\n",
    "Some categorical variables that only present 2 unique values, usually '1s and 0s' or 'Y or N' could be changed to boolean. Since we are not doing data pre-processing yet, these changes would have to preserve any NaN data. The variables are:\n",
    "- Agreement Reached (0s and 1s)\n",
    "- Attorney/Representative (Y or N)\n",
    "- COVID-19 Indicator (Y or N)\n",
    "\n",
    "---"
   ]
  },
  {
   "cell_type": "markdown",
   "metadata": {},
   "source": []
  },
  {
   "cell_type": "markdown",
   "metadata": {},
   "source": [
    "# Type conversion\n",
    "Here we are converting categorical variables that could be represented as boolean, meaning they only have two unique values, while still perserving the NaN entries present in the dataset."
   ]
  },
  {
   "cell_type": "code",
   "execution_count": 102,
   "metadata": {},
   "outputs": [],
   "source": [
    "#function to transform Y and N into boolean while preserving the NaNs\n",
    "def transform_strings_in_bool(train_data, col_names):\n",
    "    for col_name in col_names:\n",
    "        train_data[col_name] = train_data[col_name].map({'Y': True, 'N': False, np.nan: np.nan})\n",
    "    return train_data"
   ]
  },
  {
   "cell_type": "code",
   "execution_count": 103,
   "metadata": {},
   "outputs": [],
   "source": [
    "# Agreement Reached only has values of  0s and 1s so lets convert it to boolean\n",
    "train_data['Agreement Reached'] = train_data['Agreement Reached'].astype(\"boolean\")\n"
   ]
  },
  {
   "cell_type": "code",
   "execution_count": null,
   "metadata": {},
   "outputs": [],
   "source": [
    "\n",
    "train_data = transform_strings_in_bool(train_data, ['Attorney/Representative','COVID-19 Indicator'])\n",
    "print(train_data['Attorney/Representative'].unique(), train_data['COVID-19 Indicator'].unique())\n"
   ]
  },
  {
   "cell_type": "markdown",
   "metadata": {},
   "source": [
    "---"
   ]
  },
  {
   "cell_type": "markdown",
   "metadata": {},
   "source": [
    "# Visual Exploration"
   ]
  },
  {
   "cell_type": "markdown",
   "metadata": {},
   "source": [
    "## Numerical Features - univariate analysis"
   ]
  },
  {
   "cell_type": "code",
   "execution_count": null,
   "metadata": {},
   "outputs": [],
   "source": [
    "# numerical features only\n",
    "num_feat = list(train_data.select_dtypes(include='number').columns)\n",
    "print(num_feat)\n",
    "\n",
    "# remove categorical variable with code\n",
    "num_feat = [col for col in num_feat if 'Code' not in col]\n",
    "num_feat = [col for col in num_feat if 'Description' not in col]\n",
    "num_feat\n"
   ]
  },
  {
   "cell_type": "markdown",
   "metadata": {},
   "source": [
    "### Age at Injury"
   ]
  },
  {
   "cell_type": "code",
   "execution_count": null,
   "metadata": {},
   "outputs": [],
   "source": [
    "#14 is the minimum age to work in New York\n",
    "sns.histplot(train_data[train_data['Age at Injury'] > 13]['Age at Injury'],)\n",
    "plt.show()\n",
    "\n",
    "sns.boxplot(train_data[train_data['Age at Injury'] > 13]['Age at Injury'])"
   ]
  },
  {
   "cell_type": "markdown",
   "metadata": {},
   "source": [
    "### Average Weekly Wage"
   ]
  },
  {
   "cell_type": "markdown",
   "metadata": {},
   "source": [
    "We can see that this feature has a lot of outliers that need to be treated further in the project"
   ]
  },
  {
   "cell_type": "code",
   "execution_count": null,
   "metadata": {},
   "outputs": [],
   "source": [
    "sns.histplot(train_data['Average Weekly Wage'], log_scale=True)\n",
    "plt.show()\n",
    "\n",
    "sns.boxplot(train_data['Average Weekly Wage'])"
   ]
  },
  {
   "cell_type": "markdown",
   "metadata": {},
   "source": [
    "### Birth Year"
   ]
  },
  {
   "cell_type": "markdown",
   "metadata": {},
   "source": [
    "Here we can see that _`Birth Year`_ has 25081 entries with the value 0"
   ]
  },
  {
   "cell_type": "code",
   "execution_count": null,
   "metadata": {},
   "outputs": [],
   "source": [
    "sns.histplot(train_data[train_data['Birth Year'] > 0]['Birth Year'],)\n",
    "plt.show()\n",
    "\n",
    "sns.boxplot(train_data[train_data['Birth Year'] > 0]['Birth Year'])"
   ]
  },
  {
   "cell_type": "markdown",
   "metadata": {},
   "source": [
    "Here we can see that the values for Average Weekly Wage seem fine but due to the large amount of zeros, the auto attributed values for the will not work here"
   ]
  },
  {
   "cell_type": "code",
   "execution_count": null,
   "metadata": {},
   "outputs": [],
   "source": [
    "print(train_data['Average Weekly Wage'].describe())"
   ]
  },
  {
   "cell_type": "markdown",
   "metadata": {},
   "source": [
    "### Number of Dependents"
   ]
  },
  {
   "cell_type": "code",
   "execution_count": null,
   "metadata": {},
   "outputs": [],
   "source": [
    "sns.countplot(x='Number of Dependents', data=train_data)\n",
    "plt.xlabel('Number of Dependents')\n",
    "plt.ylabel('Count')\n",
    "plt.title('Distribution of Number of Dependents')\n",
    "plt.show()\n",
    "\n",
    "sns.boxplot(train_data['Number of Dependents'])"
   ]
  },
  {
   "cell_type": "markdown",
   "metadata": {},
   "source": [
    "### IME-4 Count"
   ]
  },
  {
   "cell_type": "code",
   "execution_count": null,
   "metadata": {},
   "outputs": [],
   "source": [
    "'IME-4 Count'\n",
    "\n",
    "sns.countplot(x='IME-4 Count', data=train_data)\n",
    "plt.xlabel('IME-4 Count')\n",
    "plt.ylabel('Count')\n",
    "plt.xticks(rotation=90) \n",
    "plt.title('Distribution of IME-4 Count')\n",
    "plt.show()\n",
    "\n",
    "sns.boxplot(train_data['IME-4 Count'])"
   ]
  },
  {
   "cell_type": "code",
   "execution_count": null,
   "metadata": {},
   "outputs": [],
   "source": [
    "fig = plt.figure(figsize=(10, 8))\n",
    "\n",
    "\n",
    "corr = train_data[num_feat].corr(method=\"pearson\")\n",
    "\n",
    "\n",
    "sns.heatmap(data=corr, annot=True, )\n",
    "\n",
    "\n",
    "plt.show()"
   ]
  },
  {
   "cell_type": "markdown",
   "metadata": {},
   "source": [
    "----"
   ]
  },
  {
   "cell_type": "markdown",
   "metadata": {},
   "source": [
    "## Categorical Features"
   ]
  },
  {
   "cell_type": "code",
   "execution_count": null,
   "metadata": {},
   "outputs": [],
   "source": [
    "# select categorical features\n",
    "train_data_cat = train_data.select_dtypes(include='object').columns.tolist()\n",
    "\n",
    "# add columns that contain 'Code' or 'Description' in their name\n",
    "train_data_cat += [col for col in train_data.columns if 'Code' in col or 'Description' in col]\n",
    "\n",
    "# remove any duplicates (in case a column is already in both categories)\n",
    "train_data_cat = list(set(train_data_cat))\n",
    "\n",
    "train_data_cat"
   ]
  },
  {
   "cell_type": "markdown",
   "metadata": {},
   "source": [
    "### Assembly Date"
   ]
  },
  {
   "cell_type": "code",
   "execution_count": null,
   "metadata": {},
   "outputs": [],
   "source": [
    "train_datac = train_data.copy()\n",
    "train_datac['Assembly Date'] = pd.to_datetime(train_datac['Assembly Date'])  \n",
    "train_datac['year_month'] = train_datac['Assembly Date'].dt.to_period('M')  \n",
    "\n",
    "train_datac['year_month'].value_counts().sort_index().plot(kind='bar', figsize=(10, 6))\n",
    "plt.xlabel('Month-Year')\n",
    "plt.ylabel('Frequency')\n",
    "plt.title('Frequency of Assembly Date by Month-Year')\n",
    "plt.xticks(rotation=45)\n",
    "plt.show()\n"
   ]
  },
  {
   "cell_type": "markdown",
   "metadata": {},
   "source": [
    "### Accident Date"
   ]
  },
  {
   "cell_type": "code",
   "execution_count": null,
   "metadata": {},
   "outputs": [],
   "source": [
    "train_datac = train_data.copy()\n",
    "train_datac['Accident Date'] = pd.to_datetime(train_datac['Accident Date'])  \n",
    "\n",
    "train_datac = train_datac[train_datac['Accident Date'] >= '1961-01-01']\n",
    "\n",
    "train_datac['year'] = train_datac['Accident Date'].dt.year\n",
    "print(train_datac['Accident Date'].min(), train_datac['Accident Date'].max())"
   ]
  },
  {
   "cell_type": "code",
   "execution_count": null,
   "metadata": {},
   "outputs": [],
   "source": [
    "# consider only dates from 1961 onwards (because of the min value on the cell above)\n",
    "train_datac = train_datac[train_datac['Accident Date'] >= '1961-01-01']\n",
    "\n",
    "# create a group for the first 59 year due to the low frequency\n",
    "train_datac['year_group'] = train_datac['year'].apply(lambda x: '1961-2019' if x <= 2019 else str(x))\n",
    "\n",
    "# count the frequency of the accident date by year\n",
    "yearly_grouped_counts = train_datac['year_group'].value_counts().sort_index()\n",
    "\n",
    "# plot the frequency of the accident date by year\n",
    "yearly_grouped_counts.plot(kind='bar', figsize=(10, 6))\n",
    "plt.xlabel('Year/Group')\n",
    "plt.ylabel('Frequency')\n",
    "plt.title('Frequency of Accident Date by Year/Group (1961-2019 grouped)')\n",
    "plt.xticks(rotation=45)\n",
    "plt.show()"
   ]
  },
  {
   "cell_type": "markdown",
   "metadata": {},
   "source": [
    "### C-2 and C-3 Date"
   ]
  },
  {
   "cell_type": "code",
   "execution_count": null,
   "metadata": {},
   "outputs": [],
   "source": [
    "train_datac = train_data.copy()\n",
    "train_datac['C-2 Date'] = pd.to_datetime(train_datac['C-2 Date'])  \n",
    "\n",
    "\n",
    "train_datac['year'] = train_datac['C-2 Date'].dt.year\n",
    "print(train_datac['C-2 Date'].min(), train_datac['C-2 Date'].max())"
   ]
  },
  {
   "cell_type": "code",
   "execution_count": null,
   "metadata": {},
   "outputs": [],
   "source": [
    "# consider only dates from 1996 onwards (because of the min value on the cell above)\n",
    "train_datac = train_datac[train_datac['C-2 Date'] >= '1996-01-1']\n",
    "\n",
    "# create a group for the first 2ish decades due to the low frequency\n",
    "train_datac['year_group'] = train_datac['year'].apply(lambda x: '1996-2019' if x <= 2019 else str(x))\n",
    "\n",
    "# count the frequency of the accident date by year\n",
    "yearly_grouped_counts = train_datac['year_group'].value_counts().sort_index()\n",
    "\n",
    "# plot the frequency of the accident date by year\n",
    "yearly_grouped_counts.plot(kind='bar', figsize=(10, 6))\n",
    "plt.xlabel('Year/Group')\n",
    "plt.ylabel('Frequency')\n",
    "plt.title('Frequency of C-2 Date by Year/Group (1996-2019 grouped)')\n",
    "plt.xticks(rotation=45)\n",
    "plt.show()"
   ]
  },
  {
   "cell_type": "code",
   "execution_count": null,
   "metadata": {},
   "outputs": [],
   "source": [
    "train_datac = train_data.copy()\n",
    "\n",
    "# Convert 'C-2 Date' and 'C-3 Date' to datetime\n",
    "train_datac['C-2 Date'] = pd.to_datetime(train_datac['C-2 Date'])\n",
    "train_datac['C-3 Date'] = pd.to_datetime(train_datac['C-3 Date'])\n",
    "\n",
    "print(train_datac['C-2 Date'].min(), train_datac['C-2 Date'].max())\n",
    "print(train_datac['C-3 Date'].min(), train_datac['C-3 Date'].max())\n",
    "\n"
   ]
  },
  {
   "cell_type": "code",
   "execution_count": null,
   "metadata": {},
   "outputs": [],
   "source": [
    "# consider only dates from 1996 onwards (because of the min value on the cell above) for C-2\n",
    "train_datac_c2 = train_datac[train_datac['C-2 Date'] >= '1996-01-01']\n",
    "train_datac_c2['year_c2'] = train_datac_c2['C-2 Date'].dt.year\n",
    "\n",
    "# consider only dates from 1992 onwards (because of the min value on the cell above) for C-3\n",
    "train_datac_c3 = train_datac[train_datac['C-3 Date'] >= '1992-01-01']\n",
    "train_datac_c3['year_c3'] = train_datac_c3['C-3 Date'].dt.year\n",
    "\n",
    "\n",
    "# group from the min year to 2019 and then by year due to the low frequency\n",
    "train_datac_c2['year_group_c2'] = train_datac_c2['year_c2'].apply(lambda x: '1996-2019' if x <= 2019 else str(x))\n",
    "train_datac_c3['year_group_c3'] = train_datac_c3['year_c3'].apply(lambda x: '1992-2019' if x <= 2019 else str(x))\n",
    "\n",
    "# Calculate the frequency of the accident date by year group\n",
    "yearly_grouped_counts_c2 = train_datac_c2['year_group_c2'].value_counts().sort_index()\n",
    "yearly_grouped_counts_c3 = train_datac_c3['year_group_c3'].value_counts().sort_index()"
   ]
  },
  {
   "cell_type": "code",
   "execution_count": null,
   "metadata": {},
   "outputs": [],
   "source": [
    "# Plot both graphs side by side using subplots\n",
    "fig, axes = plt.subplots(nrows=1, ncols=2, figsize=(14, 6))\n",
    "\n",
    "# plot for C-2 Date\n",
    "yearly_grouped_counts_c2.plot(kind='bar', ax=axes[0], color='blue')\n",
    "axes[0].set_xlabel('Year/Group')\n",
    "axes[0].set_ylabel('Frequency')\n",
    "axes[0].set_title('Frequency of C-2 Date by Year/Group (1996-2019 grouped)')\n",
    "axes[0].tick_params(axis='x', rotation=45)\n",
    "\n",
    "# plot for C-3 Date\n",
    "yearly_grouped_counts_c3.plot(kind='bar', ax=axes[1], color='green')\n",
    "axes[1].set_xlabel('Year/Group')\n",
    "axes[1].set_ylabel('Frequency')\n",
    "axes[1].set_title('Frequency of C-3 Date by Year/Group (1992-2019 grouped)')\n",
    "axes[1].tick_params(axis='x', rotation=45)\n",
    "\n",
    "plt.tight_layout()\n",
    "plt.show()"
   ]
  },
  {
   "cell_type": "markdown",
   "metadata": {},
   "source": [
    "### First Hearing Date"
   ]
  },
  {
   "cell_type": "code",
   "execution_count": null,
   "metadata": {},
   "outputs": [],
   "source": [
    "train_datac = train_data.copy()\n",
    "train_datac['First Hearing Date'] = pd.to_datetime(train_datac['First Hearing Date'])  \n",
    "train_datac['year'] = train_datac['First Hearing Date'].dt.year\n",
    "\n",
    "train_datac['year'].value_counts().sort_index().plot(kind='bar', figsize=(10, 6))\n",
    "plt.xlabel('Year')\n",
    "plt.ylabel('Frequency')\n",
    "plt.title('Frequency of First Hearing Date by Month-Year')\n",
    "plt.xticks(rotation=45)\n",
    "plt.show()"
   ]
  },
  {
   "cell_type": "markdown",
   "metadata": {},
   "source": [
    "### WCB Decision\n",
    "Oh no, this categorical feature only has one value"
   ]
  },
  {
   "cell_type": "code",
   "execution_count": null,
   "metadata": {},
   "outputs": [],
   "source": [
    "wcb_decision_counts = train_data['WCB Decision'].value_counts()\n",
    "\n",
    "plt.figure(figsize=(8, 8))\n",
    "wcb_decision_counts.plot.pie(autopct='%1.1f%%', startangle=90,)\n",
    "plt.ylabel('')\n",
    "plt.title('Distribution of WCB Decision')\n",
    "plt.show()"
   ]
  }
 ],
 "metadata": {
  "kernelspec": {
   "display_name": "DM2425",
   "language": "python",
   "name": "python3"
  },
  "language_info": {
   "codemirror_mode": {
    "name": "ipython",
    "version": 3
   },
   "file_extension": ".py",
   "mimetype": "text/x-python",
   "name": "python",
   "nbconvert_exporter": "python",
   "pygments_lexer": "ipython3",
   "version": "3.12.2"
  }
 },
 "nbformat": 4,
 "nbformat_minor": 2
}
