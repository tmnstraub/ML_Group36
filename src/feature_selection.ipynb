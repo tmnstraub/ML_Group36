{
 "cells": [
  {
   "cell_type": "markdown",
   "metadata": {},
   "source": [
    "## RFE SVM"
   ]
  },
  {
   "cell_type": "code",
   "execution_count": null,
   "metadata": {},
   "outputs": [
    {
     "name": "stdout",
     "output_type": "stream",
     "text": [
      "Optimal number of features: 37\n",
      "Selected Features: ['Accident Date', 'Age at Injury', 'Assembly Date', 'Birth Year', 'C-2 Date', 'C-3 Date', 'Carrier Name', 'County of Injury', 'Industry Code', 'WCIO Cause of Injury Code', 'WCIO Nature of Injury Code', 'WCIO Part Of Body Code', 'Zip Code', 'Agreement Reached', 'Number of Dependents', 'Alternative Dispute Resolution_Y', 'Attorney/Representative_Y', 'Carrier Type_2A. SIF', 'Carrier Type_3A. SELF PUBLIC', 'Carrier Type_4A. SELF PRIVATE', 'Carrier Type_5D. SPECIAL FUND - UNKNOWN', 'Carrier Type_UNKNOWN', 'COVID-19 Indicator_Y', 'District Name_BINGHAMTON', 'District Name_BUFFALO', 'District Name_HAUPPAUGE', 'District Name_NYC', 'District Name_ROCHESTER', 'District Name_STATEWIDE', 'District Name_SYRACUSE', 'Gender_M', 'Gender_U', 'Gender_X', 'Medical Fee Region_II', 'Medical Fee Region_III', 'Medical Fee Region_IV', 'Medical Fee Region_UK']\n"
     ]
    }
   ],
   "source": [
    " # Initialize RandomForest model\n",
    "svm_model = RandomForestClassifier(n_estimators=100, random_state=42)\n",
    "\n",
    " # Set up cross-validation strategy\n",
    "cv_strategy = StratifiedKFold(n_splits=5)\n",
    "\n",
    " # Set up RFECV with SVM and cross-validation\n",
    "rfecv = RFECV(estimator=svm_model, step=1, cv=cv_strategy, scoring='accuracy')\n",
    "\n",
    " # Fit RFECV\n",
    "rfecv.fit(X_train_encoded, y_train_encoded.values.ravel())\n",
    "\n",
    " # Get the selected features\n",
    "selected_features = X_train_sample.columns[rfecv.support_].tolist()\n",
    "optimal_num_features = rfecv.n_features_\n",
    "\n",
    "print(\"Optimal number of features:\", optimal_num_features)\n",
    "print(\"Selected Features:\", selected_features)\n",
    "\n",
    " # Now 'selected_features' contains the list of features selected by RFECV"
   ]
  },
  {
   "cell_type": "code",
   "execution_count": null,
   "metadata": {},
   "outputs": [],
   "source": [
    "#optimal features\n",
    "selected_features = X_train_encoded.columns[rfecv.support_].tolist()\n",
    "optimal_num_features = rfecv.n_features_\n",
    "\n",
    "print(\"Optimal number of features:\", optimal_num_features)\n",
    "print(\"Selected Features:\", selected_features)"
   ]
  }
 ],
 "metadata": {
  "language_info": {
   "name": "python"
  }
 },
 "nbformat": 4,
 "nbformat_minor": 2
}
